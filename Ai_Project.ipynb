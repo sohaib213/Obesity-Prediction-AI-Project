{
 "cells": [
  {
   "cell_type": "code",
   "execution_count": 1,
   "metadata": {
    "id": "4igEFQdLH1p2"
   },
   "outputs": [],
   "source": [
    "import pandas as pd\n",
    "import numpy as np\n",
    "import matplotlib.pyplot as plt\n",
    "import seaborn as sns\n",
    "from sklearn.ensemble import GradientBoostingClassifier, RandomForestClassifier\n",
    "from sklearn.svm import SVC\n",
    "from sklearn.model_selection import GridSearchCV\n",
    "from sklearn.metrics import accuracy_score, classification_report\n",
    "\n",
    "\n",
    "\n",
    "%matplotlib inline"
   ]
  },
  {
   "cell_type": "code",
   "execution_count": 2,
   "metadata": {
    "id": "ys1PQNpIK1L_"
   },
   "outputs": [],
   "source": [
    "data = pd.read_csv(\"train_dataset.csv\")\n",
    "testing_data = pd.read_csv(\"test_dataset.csv\")"
   ]
  },
  {
   "cell_type": "code",
   "execution_count": 3,
   "metadata": {
    "colab": {
     "base_uri": "https://localhost:8080/",
     "height": 206
    },
    "id": "NR3hgRJELlMW",
    "outputId": "62be6d27-13be-4a9d-9e9d-f9dcbd38952f"
   },
   "outputs": [
    {
     "data": {
      "text/html": [
       "<div>\n",
       "<style scoped>\n",
       "    .dataframe tbody tr th:only-of-type {\n",
       "        vertical-align: middle;\n",
       "    }\n",
       "\n",
       "    .dataframe tbody tr th {\n",
       "        vertical-align: top;\n",
       "    }\n",
       "\n",
       "    .dataframe thead th {\n",
       "        text-align: right;\n",
       "    }\n",
       "</style>\n",
       "<table border=\"1\" class=\"dataframe\">\n",
       "  <thead>\n",
       "    <tr style=\"text-align: right;\">\n",
       "      <th></th>\n",
       "      <th>Gender</th>\n",
       "      <th>Age</th>\n",
       "      <th>Height</th>\n",
       "      <th>Weight</th>\n",
       "      <th>family_history_with_overweight</th>\n",
       "      <th>FAVC</th>\n",
       "      <th>FCVC</th>\n",
       "      <th>NCP</th>\n",
       "      <th>CAEC</th>\n",
       "      <th>SMOKE</th>\n",
       "      <th>CH2O</th>\n",
       "      <th>SCC</th>\n",
       "      <th>FAF</th>\n",
       "      <th>TUE</th>\n",
       "      <th>CALC</th>\n",
       "      <th>MTRANS</th>\n",
       "      <th>NObeyesdad</th>\n",
       "    </tr>\n",
       "  </thead>\n",
       "  <tbody>\n",
       "    <tr>\n",
       "      <th>0</th>\n",
       "      <td>Female</td>\n",
       "      <td>18</td>\n",
       "      <td>1.82</td>\n",
       "      <td>142.10</td>\n",
       "      <td>yes</td>\n",
       "      <td>yes</td>\n",
       "      <td>3.00</td>\n",
       "      <td>3.00</td>\n",
       "      <td>Sometimes</td>\n",
       "      <td>no</td>\n",
       "      <td>2.71</td>\n",
       "      <td>no</td>\n",
       "      <td>2.00</td>\n",
       "      <td>0.814</td>\n",
       "      <td>Sometimes</td>\n",
       "      <td>Public_Transportation</td>\n",
       "      <td>Obesity_Type_III</td>\n",
       "    </tr>\n",
       "    <tr>\n",
       "      <th>1</th>\n",
       "      <td>Male</td>\n",
       "      <td>32</td>\n",
       "      <td>1.84</td>\n",
       "      <td>98.26</td>\n",
       "      <td>yes</td>\n",
       "      <td>yes</td>\n",
       "      <td>2.33</td>\n",
       "      <td>1.82</td>\n",
       "      <td>Sometimes</td>\n",
       "      <td>no</td>\n",
       "      <td>2.56</td>\n",
       "      <td>no</td>\n",
       "      <td>1.33</td>\n",
       "      <td>0.481</td>\n",
       "      <td>Sometimes</td>\n",
       "      <td>Automobile</td>\n",
       "      <td>Overweight_Level_II</td>\n",
       "    </tr>\n",
       "    <tr>\n",
       "      <th>2</th>\n",
       "      <td>Male</td>\n",
       "      <td>24</td>\n",
       "      <td>1.76</td>\n",
       "      <td>117.33</td>\n",
       "      <td>yes</td>\n",
       "      <td>yes</td>\n",
       "      <td>1.54</td>\n",
       "      <td>3.00</td>\n",
       "      <td>Sometimes</td>\n",
       "      <td>no</td>\n",
       "      <td>2.00</td>\n",
       "      <td>no</td>\n",
       "      <td>1.63</td>\n",
       "      <td>0.631</td>\n",
       "      <td>NaN</td>\n",
       "      <td>Public_Transportation</td>\n",
       "      <td>Obesity_Type_II</td>\n",
       "    </tr>\n",
       "    <tr>\n",
       "      <th>3</th>\n",
       "      <td>Female</td>\n",
       "      <td>26</td>\n",
       "      <td>1.62</td>\n",
       "      <td>110.68</td>\n",
       "      <td>yes</td>\n",
       "      <td>yes</td>\n",
       "      <td>3.00</td>\n",
       "      <td>3.00</td>\n",
       "      <td>Sometimes</td>\n",
       "      <td>no</td>\n",
       "      <td>2.69</td>\n",
       "      <td>no</td>\n",
       "      <td>0.00</td>\n",
       "      <td>0.425</td>\n",
       "      <td>NaN</td>\n",
       "      <td>Public_Transportation</td>\n",
       "      <td>Obesity_Type_III</td>\n",
       "    </tr>\n",
       "    <tr>\n",
       "      <th>4</th>\n",
       "      <td>Male</td>\n",
       "      <td>32</td>\n",
       "      <td>1.78</td>\n",
       "      <td>121.20</td>\n",
       "      <td>yes</td>\n",
       "      <td>yes</td>\n",
       "      <td>2.76</td>\n",
       "      <td>3.00</td>\n",
       "      <td>Sometimes</td>\n",
       "      <td>no</td>\n",
       "      <td>2.16</td>\n",
       "      <td>no</td>\n",
       "      <td>0.43</td>\n",
       "      <td>0.716</td>\n",
       "      <td>NaN</td>\n",
       "      <td>Automobile</td>\n",
       "      <td>Obesity_Type_II</td>\n",
       "    </tr>\n",
       "  </tbody>\n",
       "</table>\n",
       "</div>"
      ],
      "text/plain": [
       "   Gender  Age  Height  Weight family_history_with_overweight FAVC  FCVC  \\\n",
       "0  Female   18    1.82  142.10                            yes  yes  3.00   \n",
       "1    Male   32    1.84   98.26                            yes  yes  2.33   \n",
       "2    Male   24    1.76  117.33                            yes  yes  1.54   \n",
       "3  Female   26    1.62  110.68                            yes  yes  3.00   \n",
       "4    Male   32    1.78  121.20                            yes  yes  2.76   \n",
       "\n",
       "    NCP       CAEC SMOKE  CH2O SCC   FAF    TUE       CALC  \\\n",
       "0  3.00  Sometimes    no  2.71  no  2.00  0.814  Sometimes   \n",
       "1  1.82  Sometimes    no  2.56  no  1.33  0.481  Sometimes   \n",
       "2  3.00  Sometimes    no  2.00  no  1.63  0.631        NaN   \n",
       "3  3.00  Sometimes    no  2.69  no  0.00  0.425        NaN   \n",
       "4  3.00  Sometimes    no  2.16  no  0.43  0.716        NaN   \n",
       "\n",
       "                  MTRANS           NObeyesdad  \n",
       "0  Public_Transportation     Obesity_Type_III  \n",
       "1             Automobile  Overweight_Level_II  \n",
       "2  Public_Transportation      Obesity_Type_II  \n",
       "3  Public_Transportation     Obesity_Type_III  \n",
       "4             Automobile      Obesity_Type_II  "
      ]
     },
     "execution_count": 3,
     "metadata": {},
     "output_type": "execute_result"
    }
   ],
   "source": [
    "data.head()"
   ]
  },
  {
   "cell_type": "code",
   "execution_count": 4,
   "metadata": {
    "colab": {
     "base_uri": "https://localhost:8080/"
    },
    "id": "BXEi5niuR628",
    "outputId": "8b12a83e-cce1-4160-8665-4c3f66185a39"
   },
   "outputs": [
    {
     "name": "stdout",
     "output_type": "stream",
     "text": [
      "<class 'pandas.core.frame.DataFrame'>\n",
      "RangeIndex: 1900 entries, 0 to 1899\n",
      "Data columns (total 17 columns):\n",
      " #   Column                          Non-Null Count  Dtype  \n",
      "---  ------                          --------------  -----  \n",
      " 0   Gender                          1900 non-null   object \n",
      " 1   Age                             1900 non-null   int64  \n",
      " 2   Height                          1900 non-null   float64\n",
      " 3   Weight                          1900 non-null   float64\n",
      " 4   family_history_with_overweight  1900 non-null   object \n",
      " 5   FAVC                            1900 non-null   object \n",
      " 6   FCVC                            1888 non-null   float64\n",
      " 7   NCP                             1900 non-null   float64\n",
      " 8   CAEC                            1900 non-null   object \n",
      " 9   SMOKE                           1900 non-null   object \n",
      " 10  CH2O                            1900 non-null   float64\n",
      " 11  SCC                             1900 non-null   object \n",
      " 12  FAF                             1900 non-null   float64\n",
      " 13  TUE                             1900 non-null   float64\n",
      " 14  CALC                            1872 non-null   object \n",
      " 15  MTRANS                          1900 non-null   object \n",
      " 16  NObeyesdad                      1900 non-null   object \n",
      "dtypes: float64(7), int64(1), object(9)\n",
      "memory usage: 252.5+ KB\n",
      "<class 'pandas.core.frame.DataFrame'>\n",
      "RangeIndex: 211 entries, 0 to 210\n",
      "Data columns (total 17 columns):\n",
      " #   Column                          Non-Null Count  Dtype  \n",
      "---  ------                          --------------  -----  \n",
      " 0   Gender                          211 non-null    object \n",
      " 1   Age                             211 non-null    int64  \n",
      " 2   Height                          211 non-null    float64\n",
      " 3   Weight                          211 non-null    float64\n",
      " 4   family_history_with_overweight  211 non-null    object \n",
      " 5   FAVC                            211 non-null    object \n",
      " 6   FCVC                            211 non-null    float64\n",
      " 7   NCP                             211 non-null    float64\n",
      " 8   CAEC                            211 non-null    object \n",
      " 9   SMOKE                           211 non-null    object \n",
      " 10  CH2O                            211 non-null    float64\n",
      " 11  SCC                             211 non-null    object \n",
      " 12  FAF                             211 non-null    float64\n",
      " 13  TUE                             211 non-null    float64\n",
      " 14  CALC                            211 non-null    object \n",
      " 15  MTRANS                          211 non-null    object \n",
      " 16  NObeyesdad                      211 non-null    object \n",
      "dtypes: float64(7), int64(1), object(9)\n",
      "memory usage: 28.2+ KB\n"
     ]
    }
   ],
   "source": [
    "data.info()\n",
    "testing_data.info()"
   ]
  },
  {
   "cell_type": "code",
   "execution_count": 5,
   "metadata": {
    "colab": {
     "base_uri": "https://localhost:8080/"
    },
    "id": "ekhLnYCAW7x9",
    "outputId": "98c6c7c1-29f4-4511-fef2-18d6d4a2623e"
   },
   "outputs": [
    {
     "name": "stdout",
     "output_type": "stream",
     "text": [
      "22\n",
      "0\n"
     ]
    }
   ],
   "source": [
    "print(sum(data.duplicated()))\n",
    "print(sum(testing_data.duplicated()))"
   ]
  },
  {
   "cell_type": "code",
   "execution_count": 6,
   "metadata": {
    "id": "dOyuvQnHXUis"
   },
   "outputs": [],
   "source": [
    "#delete dublicated rows\n",
    "data = data.drop_duplicates()"
   ]
  },
  {
   "cell_type": "code",
   "execution_count": 7,
   "metadata": {
    "colab": {
     "base_uri": "https://localhost:8080/"
    },
    "id": "NSxZSHUjbZM-",
    "outputId": "9c6b3fa1-661d-4030-9a2e-6753b8b3f764"
   },
   "outputs": [
    {
     "name": "stdout",
     "output_type": "stream",
     "text": [
      "<class 'pandas.core.frame.DataFrame'>\n",
      "Index: 1878 entries, 0 to 1899\n",
      "Data columns (total 17 columns):\n",
      " #   Column                          Non-Null Count  Dtype  \n",
      "---  ------                          --------------  -----  \n",
      " 0   Gender                          1878 non-null   object \n",
      " 1   Age                             1878 non-null   int64  \n",
      " 2   Height                          1878 non-null   float64\n",
      " 3   Weight                          1878 non-null   float64\n",
      " 4   family_history_with_overweight  1878 non-null   object \n",
      " 5   FAVC                            1878 non-null   object \n",
      " 6   FCVC                            1866 non-null   float64\n",
      " 7   NCP                             1878 non-null   float64\n",
      " 8   CAEC                            1878 non-null   object \n",
      " 9   SMOKE                           1878 non-null   object \n",
      " 10  CH2O                            1878 non-null   float64\n",
      " 11  SCC                             1878 non-null   object \n",
      " 12  FAF                             1878 non-null   float64\n",
      " 13  TUE                             1878 non-null   float64\n",
      " 14  CALC                            1850 non-null   object \n",
      " 15  MTRANS                          1878 non-null   object \n",
      " 16  NObeyesdad                      1878 non-null   object \n",
      "dtypes: float64(7), int64(1), object(9)\n",
      "memory usage: 264.1+ KB\n"
     ]
    }
   ],
   "source": [
    "data.info()"
   ]
  },
  {
   "cell_type": "code",
   "execution_count": 8,
   "metadata": {
    "colab": {
     "base_uri": "https://localhost:8080/",
     "height": 617
    },
    "id": "PSH1GIkI0T7l",
    "outputId": "214ec4a2-942e-443a-f728-c9124b12b7d9"
   },
   "outputs": [
    {
     "data": {
      "text/plain": [
       "Gender                             0\n",
       "Age                                0\n",
       "Height                             0\n",
       "Weight                             0\n",
       "family_history_with_overweight     0\n",
       "FAVC                               0\n",
       "FCVC                              12\n",
       "NCP                                0\n",
       "CAEC                               0\n",
       "SMOKE                              0\n",
       "CH2O                               0\n",
       "SCC                                0\n",
       "FAF                                0\n",
       "TUE                                0\n",
       "CALC                              28\n",
       "MTRANS                             0\n",
       "NObeyesdad                         0\n",
       "dtype: int64"
      ]
     },
     "execution_count": 8,
     "metadata": {},
     "output_type": "execute_result"
    }
   ],
   "source": [
    "data.isnull().sum()"
   ]
  },
  {
   "cell_type": "code",
   "execution_count": 9,
   "metadata": {
    "colab": {
     "base_uri": "https://localhost:8080/",
     "height": 206
    },
    "id": "ApxEWEP50x6U",
    "outputId": "069bf685-a12e-4bea-95e4-d5b45431129c"
   },
   "outputs": [
    {
     "data": {
      "text/html": [
       "<div>\n",
       "<style scoped>\n",
       "    .dataframe tbody tr th:only-of-type {\n",
       "        vertical-align: middle;\n",
       "    }\n",
       "\n",
       "    .dataframe tbody tr th {\n",
       "        vertical-align: top;\n",
       "    }\n",
       "\n",
       "    .dataframe thead th {\n",
       "        text-align: right;\n",
       "    }\n",
       "</style>\n",
       "<table border=\"1\" class=\"dataframe\">\n",
       "  <thead>\n",
       "    <tr style=\"text-align: right;\">\n",
       "      <th></th>\n",
       "      <th>Gender</th>\n",
       "      <th>Age</th>\n",
       "      <th>Height</th>\n",
       "      <th>Weight</th>\n",
       "      <th>family_history_with_overweight</th>\n",
       "      <th>FAVC</th>\n",
       "      <th>FCVC</th>\n",
       "      <th>NCP</th>\n",
       "      <th>CAEC</th>\n",
       "      <th>SMOKE</th>\n",
       "      <th>CH2O</th>\n",
       "      <th>SCC</th>\n",
       "      <th>FAF</th>\n",
       "      <th>TUE</th>\n",
       "      <th>CALC</th>\n",
       "      <th>MTRANS</th>\n",
       "      <th>NObeyesdad</th>\n",
       "    </tr>\n",
       "  </thead>\n",
       "  <tbody>\n",
       "    <tr>\n",
       "      <th>0</th>\n",
       "      <td>Female</td>\n",
       "      <td>18</td>\n",
       "      <td>1.82</td>\n",
       "      <td>142.10</td>\n",
       "      <td>yes</td>\n",
       "      <td>yes</td>\n",
       "      <td>3.00</td>\n",
       "      <td>3.00</td>\n",
       "      <td>Sometimes</td>\n",
       "      <td>no</td>\n",
       "      <td>2.71</td>\n",
       "      <td>no</td>\n",
       "      <td>2.00</td>\n",
       "      <td>0.814</td>\n",
       "      <td>Sometimes</td>\n",
       "      <td>Public_Transportation</td>\n",
       "      <td>Obesity_Type_III</td>\n",
       "    </tr>\n",
       "    <tr>\n",
       "      <th>1</th>\n",
       "      <td>Male</td>\n",
       "      <td>32</td>\n",
       "      <td>1.84</td>\n",
       "      <td>98.26</td>\n",
       "      <td>yes</td>\n",
       "      <td>yes</td>\n",
       "      <td>2.33</td>\n",
       "      <td>1.82</td>\n",
       "      <td>Sometimes</td>\n",
       "      <td>no</td>\n",
       "      <td>2.56</td>\n",
       "      <td>no</td>\n",
       "      <td>1.33</td>\n",
       "      <td>0.481</td>\n",
       "      <td>Sometimes</td>\n",
       "      <td>Automobile</td>\n",
       "      <td>Overweight_Level_II</td>\n",
       "    </tr>\n",
       "    <tr>\n",
       "      <th>2</th>\n",
       "      <td>Male</td>\n",
       "      <td>24</td>\n",
       "      <td>1.76</td>\n",
       "      <td>117.33</td>\n",
       "      <td>yes</td>\n",
       "      <td>yes</td>\n",
       "      <td>1.54</td>\n",
       "      <td>3.00</td>\n",
       "      <td>Sometimes</td>\n",
       "      <td>no</td>\n",
       "      <td>2.00</td>\n",
       "      <td>no</td>\n",
       "      <td>1.63</td>\n",
       "      <td>0.631</td>\n",
       "      <td>NaN</td>\n",
       "      <td>Public_Transportation</td>\n",
       "      <td>Obesity_Type_II</td>\n",
       "    </tr>\n",
       "    <tr>\n",
       "      <th>3</th>\n",
       "      <td>Female</td>\n",
       "      <td>26</td>\n",
       "      <td>1.62</td>\n",
       "      <td>110.68</td>\n",
       "      <td>yes</td>\n",
       "      <td>yes</td>\n",
       "      <td>3.00</td>\n",
       "      <td>3.00</td>\n",
       "      <td>Sometimes</td>\n",
       "      <td>no</td>\n",
       "      <td>2.69</td>\n",
       "      <td>no</td>\n",
       "      <td>0.00</td>\n",
       "      <td>0.425</td>\n",
       "      <td>NaN</td>\n",
       "      <td>Public_Transportation</td>\n",
       "      <td>Obesity_Type_III</td>\n",
       "    </tr>\n",
       "    <tr>\n",
       "      <th>4</th>\n",
       "      <td>Male</td>\n",
       "      <td>32</td>\n",
       "      <td>1.78</td>\n",
       "      <td>121.20</td>\n",
       "      <td>yes</td>\n",
       "      <td>yes</td>\n",
       "      <td>2.76</td>\n",
       "      <td>3.00</td>\n",
       "      <td>Sometimes</td>\n",
       "      <td>no</td>\n",
       "      <td>2.16</td>\n",
       "      <td>no</td>\n",
       "      <td>0.43</td>\n",
       "      <td>0.716</td>\n",
       "      <td>NaN</td>\n",
       "      <td>Automobile</td>\n",
       "      <td>Obesity_Type_II</td>\n",
       "    </tr>\n",
       "  </tbody>\n",
       "</table>\n",
       "</div>"
      ],
      "text/plain": [
       "   Gender  Age  Height  Weight family_history_with_overweight FAVC  FCVC  \\\n",
       "0  Female   18    1.82  142.10                            yes  yes  3.00   \n",
       "1    Male   32    1.84   98.26                            yes  yes  2.33   \n",
       "2    Male   24    1.76  117.33                            yes  yes  1.54   \n",
       "3  Female   26    1.62  110.68                            yes  yes  3.00   \n",
       "4    Male   32    1.78  121.20                            yes  yes  2.76   \n",
       "\n",
       "    NCP       CAEC SMOKE  CH2O SCC   FAF    TUE       CALC  \\\n",
       "0  3.00  Sometimes    no  2.71  no  2.00  0.814  Sometimes   \n",
       "1  1.82  Sometimes    no  2.56  no  1.33  0.481  Sometimes   \n",
       "2  3.00  Sometimes    no  2.00  no  1.63  0.631        NaN   \n",
       "3  3.00  Sometimes    no  2.69  no  0.00  0.425        NaN   \n",
       "4  3.00  Sometimes    no  2.16  no  0.43  0.716        NaN   \n",
       "\n",
       "                  MTRANS           NObeyesdad  \n",
       "0  Public_Transportation     Obesity_Type_III  \n",
       "1             Automobile  Overweight_Level_II  \n",
       "2  Public_Transportation      Obesity_Type_II  \n",
       "3  Public_Transportation     Obesity_Type_III  \n",
       "4             Automobile      Obesity_Type_II  "
      ]
     },
     "execution_count": 9,
     "metadata": {},
     "output_type": "execute_result"
    }
   ],
   "source": [
    "data.head()"
   ]
  },
  {
   "cell_type": "code",
   "execution_count": 10,
   "metadata": {
    "id": "-thFYYOCYtX-"
   },
   "outputs": [],
   "source": [
    "#                                                     fill nulls\n",
    "\n",
    "data['FCVC'] = data['FCVC'].fillna(data['FCVC'].median())\n",
    "data['CALC'] = data['CALC'].fillna(data['CALC'].mode()[0])"
   ]
  },
  {
   "cell_type": "code",
   "execution_count": 11,
   "metadata": {
    "colab": {
     "base_uri": "https://localhost:8080/"
    },
    "id": "mD1jJiwYXcpU",
    "outputId": "fc4b053d-070a-437b-a25c-c030caa8eabd"
   },
   "outputs": [
    {
     "name": "stdout",
     "output_type": "stream",
     "text": [
      "<class 'pandas.core.frame.DataFrame'>\n",
      "Index: 1878 entries, 0 to 1899\n",
      "Data columns (total 17 columns):\n",
      " #   Column                          Non-Null Count  Dtype  \n",
      "---  ------                          --------------  -----  \n",
      " 0   Gender                          1878 non-null   object \n",
      " 1   Age                             1878 non-null   int64  \n",
      " 2   Height                          1878 non-null   float64\n",
      " 3   Weight                          1878 non-null   float64\n",
      " 4   family_history_with_overweight  1878 non-null   object \n",
      " 5   FAVC                            1878 non-null   object \n",
      " 6   FCVC                            1878 non-null   float64\n",
      " 7   NCP                             1878 non-null   float64\n",
      " 8   CAEC                            1878 non-null   object \n",
      " 9   SMOKE                           1878 non-null   object \n",
      " 10  CH2O                            1878 non-null   float64\n",
      " 11  SCC                             1878 non-null   object \n",
      " 12  FAF                             1878 non-null   float64\n",
      " 13  TUE                             1878 non-null   float64\n",
      " 14  CALC                            1878 non-null   object \n",
      " 15  MTRANS                          1878 non-null   object \n",
      " 16  NObeyesdad                      1878 non-null   object \n",
      "dtypes: float64(7), int64(1), object(9)\n",
      "memory usage: 264.1+ KB\n"
     ]
    }
   ],
   "source": [
    "data.info()"
   ]
  },
  {
   "cell_type": "code",
   "execution_count": 12,
   "metadata": {
    "colab": {
     "base_uri": "https://localhost:8080/"
    },
    "id": "h2ZeA2n4ftmb",
    "outputId": "401156af-35ec-44db-ca31-bc05868ddf20"
   },
   "outputs": [
    {
     "name": "stdout",
     "output_type": "stream",
     "text": [
      "Gender\n",
      "Male      943\n",
      "Female    935\n",
      "Name: count, dtype: int64 \n",
      "\n",
      "family_history_with_overweight\n",
      "yes    1546\n",
      "no      332\n",
      "Name: count, dtype: int64 \n",
      "\n",
      "FAVC\n",
      "yes    1669\n",
      "no      209\n",
      "Name: count, dtype: int64 \n",
      "\n",
      "CAEC\n",
      "Sometimes     1585\n",
      "Frequently     214\n",
      "Always          46\n",
      "no              33\n",
      "Name: count, dtype: int64 \n",
      "\n",
      "SMOKE\n",
      "no     1838\n",
      "yes      40\n",
      "Name: count, dtype: int64 \n",
      "\n",
      "SCC\n",
      "no     1789\n",
      "yes      89\n",
      "Name: count, dtype: int64 \n",
      "\n",
      "CALC\n",
      "Sometimes     1242\n",
      "no             570\n",
      "Frequently      65\n",
      "Always           1\n",
      "Name: count, dtype: int64 \n",
      "\n",
      "MTRANS\n",
      "Public_Transportation    1412\n",
      "Automobile                402\n",
      "Walking                    50\n",
      "Motorbike                   9\n",
      "Bike                        5\n",
      "Name: count, dtype: int64 \n",
      "\n",
      "NObeyesdad\n",
      "Obesity_Type_I         322\n",
      "Obesity_Type_III       296\n",
      "Obesity_Type_II        259\n",
      "Overweight_Level_II    256\n",
      "Normal_Weight          251\n",
      "Overweight_Level_I     251\n",
      "Insufficient_Weight    243\n",
      "Name: count, dtype: int64 \n",
      "\n"
     ]
    }
   ],
   "source": [
    "# show the value count for every column\n",
    "\n",
    "for x in data.columns:\n",
    "  if data[x].dtype == 'object':\n",
    "    print(data[x].value_counts(), \"\\n\")\n"
   ]
  },
  {
   "cell_type": "code",
   "execution_count": 13,
   "metadata": {
    "id": "aarMJPosBRJM"
   },
   "outputs": [],
   "source": [
    "#                                                     handling the outliers"
   ]
  },
  {
   "cell_type": "code",
   "execution_count": 14,
   "metadata": {
    "colab": {
     "base_uri": "https://localhost:8080/",
     "height": 582
    },
    "id": "oAGQL7saAVdW",
    "outputId": "638d8631-8dd5-43ef-bb53-75de72a04288"
   },
   "outputs": [
    {
     "data": {
      "image/png": "[encoded data removed]",
      "text/plain": [
       "<Figure size 1200x600 with 1 Axes>"
      ]
     },
     "metadata": {},
     "output_type": "display_data"
    }
   ],
   "source": [
    "\n",
    "# Get all BoxPlots of the Training set( seaborn and matplotlib )\n",
    "plt.figure(figsize=(12, 6))\n",
    "plt.title(\"Box plots for the Training Set (numerical)\")\n",
    "sns.boxplot(data=data.select_dtypes(include='number'))\n",
    "plt.xticks(rotation=45)\n",
    "plt.show()\n"
   ]
  },
  {
   "cell_type": "code",
   "execution_count": 15,
   "metadata": {
    "colab": {
     "base_uri": "https://localhost:8080/",
     "height": 582
    },
    "id": "6dYIlXtWA_k-",
    "outputId": "1b6212e1-e741-4485-8760-b823c29a800f"
   },
   "outputs": [
    {
     "data": {
      "image/png": "[encoded data removed]",
      "text/plain": [
       "<Figure size 1200x600 with 1 Axes>"
      ]
     },
     "metadata": {},
     "output_type": "display_data"
    }
   ],
   "source": [
    "# Get all BoxPlots of the TestSet using (pandas and matplotlib)\n",
    "testing_data.select_dtypes(include='number').plot(kind='box', figsize=(12, 6))\n",
    "plt.title(\"Box Plot for Test Set (Numerical)\")\n",
    "plt.xticks(rotation=45)\n",
    "plt.show()"
   ]
  },
  {
   "cell_type": "code",
   "execution_count": 16,
   "metadata": {
    "id": "vgi8YJ9EBNk6"
   },
   "outputs": [],
   "source": [
    "# we can use (IQR , ZScore)\n",
    "# Outliers function of number columns  using the IQR\n",
    "def handleOutliers(train):\n",
    "  # Get the cols dtype (numbers)\n",
    "  cols=train.select_dtypes(include=np.number).columns\n",
    "  for col in cols:\n",
    "    # this is using the quantiles but we can use percentiles(5 and 95 with the data.clip(lower=train[col].quantile(0.05) , upper=train[col].quantile(0.95)))\n",
    "    Q1=train[col].quantile(0.25)\n",
    "    Q3=train[col].quantile(0.75)\n",
    "    IQR=Q3-Q1\n",
    "    lower_bound=Q1-IQR*1.5\n",
    "    upper_bound=Q3+IQR*1.5\n",
    "    train[col]=train[col].apply(lambda x: lower_bound if x<lower_bound else (upper_bound if x>upper_bound else x)) # lambda and ternary condition\n",
    "  return train"
   ]
  },
  {
   "cell_type": "code",
   "execution_count": 17,
   "metadata": {
    "id": "EPIsJeWbBcqD"
   },
   "outputs": [],
   "source": [
    "# calling the outlier function\n",
    "data=handleOutliers(data)\n",
    "testing_data=handleOutliers(testing_data)"
   ]
  },
  {
   "cell_type": "code",
   "execution_count": 18,
   "metadata": {
    "colab": {
     "base_uri": "https://localhost:8080/",
     "height": 582
    },
    "id": "o8yOI8jABnOy",
    "outputId": "85e0b440-47f9-479e-9ba9-349a7733f854"
   },
   "outputs": [
    {
     "data": {
      "image/png": "[encoded data removed]",
      "text/plain": [
       "<Figure size 1200x600 with 1 Axes>"
      ]
     },
     "metadata": {},
     "output_type": "display_data"
    }
   ],
   "source": [
    "# Get the box plots of the x_training set again to check\n",
    "plt.figure(figsize=(12,6))\n",
    "plt.title(\"Box plots for the Training Set (numerical)\")\n",
    "sns.boxplot(data=data.select_dtypes(include='number'))\n",
    "plt.xticks(rotation=45)\n",
    "plt.show()"
   ]
  },
  {
   "cell_type": "code",
   "execution_count": 19,
   "metadata": {
    "colab": {
     "base_uri": "https://localhost:8080/",
     "height": 582
    },
    "id": "xVMKi5G9Bykv",
    "outputId": "2bcfb86e-73cc-4f35-8fbd-a45ec1d17a68"
   },
   "outputs": [
    {
     "data": {
      "image/png": "[encoded data removed]",
      "text/plain": [
       "<Figure size 1200x600 with 1 Axes>"
      ]
     },
     "metadata": {},
     "output_type": "display_data"
    }
   ],
   "source": [
    "# Get the box plots of x_test set again to check\n",
    "plt.figure(figsize=(12,6))\n",
    "plt.title(\"Box plots for the Test Set (numerical)\")\n",
    "sns.boxplot(data=testing_data.select_dtypes(include='number'))\n",
    "plt.xticks(rotation=45)\n",
    "plt.show()"
   ]
  },
  {
   "cell_type": "code",
   "execution_count": 20,
   "metadata": {
    "colab": {
     "base_uri": "https://localhost:8080/"
    },
    "id": "lLOG1gh866uz",
    "outputId": "896e7788-7cdb-4029-937d-56326372c62d"
   },
   "outputs": [
    {
     "name": "stdout",
     "output_type": "stream",
     "text": [
      "<class 'pandas.core.frame.DataFrame'>\n",
      "Index: 1878 entries, 0 to 1899\n",
      "Data columns (total 17 columns):\n",
      " #   Column                          Non-Null Count  Dtype  \n",
      "---  ------                          --------------  -----  \n",
      " 0   Gender                          1878 non-null   object \n",
      " 1   Age                             1878 non-null   float64\n",
      " 2   Height                          1878 non-null   float64\n",
      " 3   Weight                          1878 non-null   float64\n",
      " 4   family_history_with_overweight  1878 non-null   object \n",
      " 5   FAVC                            1878 non-null   object \n",
      " 6   FCVC                            1878 non-null   float64\n",
      " 7   NCP                             1878 non-null   float64\n",
      " 8   CAEC                            1878 non-null   object \n",
      " 9   SMOKE                           1878 non-null   object \n",
      " 10  CH2O                            1878 non-null   float64\n",
      " 11  SCC                             1878 non-null   object \n",
      " 12  FAF                             1878 non-null   float64\n",
      " 13  TUE                             1878 non-null   float64\n",
      " 14  CALC                            1878 non-null   object \n",
      " 15  MTRANS                          1878 non-null   object \n",
      " 16  NObeyesdad                      1878 non-null   object \n",
      "dtypes: float64(8), object(9)\n",
      "memory usage: 264.1+ KB\n"
     ]
    }
   ],
   "source": [
    "data.info()"
   ]
  },
  {
   "cell_type": "code",
   "execution_count": 21,
   "metadata": {
    "id": "-SZjtLViCDw6"
   },
   "outputs": [],
   "source": [
    "#                                                           Encoding the Data"
   ]
  },
  {
   "cell_type": "code",
   "execution_count": 22,
   "metadata": {
    "id": "AsTeYUgp4g-E"
   },
   "outputs": [],
   "source": [
    "# encodin using label encoder (built in function)\n",
    "# from sklearn.preprocessing import LabelEncoder\n",
    "\n",
    "# labelEncoder = LabelEncoder()\n",
    "# # to can revers the encoding\n",
    "# inverseEncoder = {}\n",
    "# inverseEncoderTest = {}\n",
    "\n",
    "# # loop on the train data columns\n",
    "# for col in data.columns :\n",
    "#   if(data[col].dtype=='object'):\n",
    "#     data[col] = labelEncoder.fit_transform(data[col])\n",
    "#     inverseEncoder[col] = labelEncoder.classes_\n",
    "\n",
    "# # loop on the test data columns\n",
    "# for col in testing_data.columns :\n",
    "#   if(testing_data[col].dtype=='object'):\n",
    "#     testing_data[col] = labelEncoder.fit_transform(testing_data[col])\n",
    "#     inverseEncoderTest[col] = labelEncoder.classes_\n",
    "\n"
   ]
  },
  {
   "cell_type": "code",
   "execution_count": 23,
   "metadata": {
    "colab": {
     "base_uri": "https://localhost:8080/"
    },
    "id": "SwUjFxmQ45uH",
    "outputId": "9aef3ef6-774b-4a83-da84-b66ac20de9d2"
   },
   "outputs": [
    {
     "name": "stdout",
     "output_type": "stream",
     "text": [
      "<class 'pandas.core.frame.DataFrame'>\n",
      "Index: 1878 entries, 0 to 1899\n",
      "Data columns (total 17 columns):\n",
      " #   Column                          Non-Null Count  Dtype  \n",
      "---  ------                          --------------  -----  \n",
      " 0   Gender                          1878 non-null   object \n",
      " 1   Age                             1878 non-null   float64\n",
      " 2   Height                          1878 non-null   float64\n",
      " 3   Weight                          1878 non-null   float64\n",
      " 4   family_history_with_overweight  1878 non-null   object \n",
      " 5   FAVC                            1878 non-null   object \n",
      " 6   FCVC                            1878 non-null   float64\n",
      " 7   NCP                             1878 non-null   float64\n",
      " 8   CAEC                            1878 non-null   object \n",
      " 9   SMOKE                           1878 non-null   object \n",
      " 10  CH2O                            1878 non-null   float64\n",
      " 11  SCC                             1878 non-null   object \n",
      " 12  FAF                             1878 non-null   float64\n",
      " 13  TUE                             1878 non-null   float64\n",
      " 14  CALC                            1878 non-null   object \n",
      " 15  MTRANS                          1878 non-null   object \n",
      " 16  NObeyesdad                      1878 non-null   object \n",
      "dtypes: float64(8), object(9)\n",
      "memory usage: 264.1+ KB\n"
     ]
    }
   ],
   "source": [
    "data.info()"
   ]
  },
  {
   "cell_type": "code",
   "execution_count": 24,
   "metadata": {
    "colab": {
     "base_uri": "https://localhost:8080/",
     "height": 206
    },
    "id": "WBz7IuhS7mBt",
    "outputId": "fa2e8682-5c29-471e-e6c0-d9bcb1d54c0a"
   },
   "outputs": [
    {
     "data": {
      "text/html": [
       "<div>\n",
       "<style scoped>\n",
       "    .dataframe tbody tr th:only-of-type {\n",
       "        vertical-align: middle;\n",
       "    }\n",
       "\n",
       "    .dataframe tbody tr th {\n",
       "        vertical-align: top;\n",
       "    }\n",
       "\n",
       "    .dataframe thead th {\n",
       "        text-align: right;\n",
       "    }\n",
       "</style>\n",
       "<table border=\"1\" class=\"dataframe\">\n",
       "  <thead>\n",
       "    <tr style=\"text-align: right;\">\n",
       "      <th></th>\n",
       "      <th>Gender</th>\n",
       "      <th>Age</th>\n",
       "      <th>Height</th>\n",
       "      <th>Weight</th>\n",
       "      <th>family_history_with_overweight</th>\n",
       "      <th>FAVC</th>\n",
       "      <th>FCVC</th>\n",
       "      <th>NCP</th>\n",
       "      <th>CAEC</th>\n",
       "      <th>SMOKE</th>\n",
       "      <th>CH2O</th>\n",
       "      <th>SCC</th>\n",
       "      <th>FAF</th>\n",
       "      <th>TUE</th>\n",
       "      <th>CALC</th>\n",
       "      <th>MTRANS</th>\n",
       "      <th>NObeyesdad</th>\n",
       "    </tr>\n",
       "  </thead>\n",
       "  <tbody>\n",
       "    <tr>\n",
       "      <th>0</th>\n",
       "      <td>Female</td>\n",
       "      <td>18.0</td>\n",
       "      <td>1.82</td>\n",
       "      <td>142.10</td>\n",
       "      <td>yes</td>\n",
       "      <td>yes</td>\n",
       "      <td>3.00</td>\n",
       "      <td>3.00000</td>\n",
       "      <td>Sometimes</td>\n",
       "      <td>no</td>\n",
       "      <td>2.71</td>\n",
       "      <td>no</td>\n",
       "      <td>2.00</td>\n",
       "      <td>0.814</td>\n",
       "      <td>Sometimes</td>\n",
       "      <td>Public_Transportation</td>\n",
       "      <td>Obesity_Type_III</td>\n",
       "    </tr>\n",
       "    <tr>\n",
       "      <th>1</th>\n",
       "      <td>Male</td>\n",
       "      <td>32.0</td>\n",
       "      <td>1.84</td>\n",
       "      <td>98.26</td>\n",
       "      <td>yes</td>\n",
       "      <td>yes</td>\n",
       "      <td>2.33</td>\n",
       "      <td>2.23125</td>\n",
       "      <td>Sometimes</td>\n",
       "      <td>no</td>\n",
       "      <td>2.56</td>\n",
       "      <td>no</td>\n",
       "      <td>1.33</td>\n",
       "      <td>0.481</td>\n",
       "      <td>Sometimes</td>\n",
       "      <td>Automobile</td>\n",
       "      <td>Overweight_Level_II</td>\n",
       "    </tr>\n",
       "    <tr>\n",
       "      <th>2</th>\n",
       "      <td>Male</td>\n",
       "      <td>24.0</td>\n",
       "      <td>1.76</td>\n",
       "      <td>117.33</td>\n",
       "      <td>yes</td>\n",
       "      <td>yes</td>\n",
       "      <td>1.54</td>\n",
       "      <td>3.00000</td>\n",
       "      <td>Sometimes</td>\n",
       "      <td>no</td>\n",
       "      <td>2.00</td>\n",
       "      <td>no</td>\n",
       "      <td>1.63</td>\n",
       "      <td>0.631</td>\n",
       "      <td>Sometimes</td>\n",
       "      <td>Public_Transportation</td>\n",
       "      <td>Obesity_Type_II</td>\n",
       "    </tr>\n",
       "    <tr>\n",
       "      <th>3</th>\n",
       "      <td>Female</td>\n",
       "      <td>26.0</td>\n",
       "      <td>1.62</td>\n",
       "      <td>110.68</td>\n",
       "      <td>yes</td>\n",
       "      <td>yes</td>\n",
       "      <td>3.00</td>\n",
       "      <td>3.00000</td>\n",
       "      <td>Sometimes</td>\n",
       "      <td>no</td>\n",
       "      <td>2.69</td>\n",
       "      <td>no</td>\n",
       "      <td>0.00</td>\n",
       "      <td>0.425</td>\n",
       "      <td>Sometimes</td>\n",
       "      <td>Public_Transportation</td>\n",
       "      <td>Obesity_Type_III</td>\n",
       "    </tr>\n",
       "    <tr>\n",
       "      <th>4</th>\n",
       "      <td>Male</td>\n",
       "      <td>32.0</td>\n",
       "      <td>1.78</td>\n",
       "      <td>121.20</td>\n",
       "      <td>yes</td>\n",
       "      <td>yes</td>\n",
       "      <td>2.76</td>\n",
       "      <td>3.00000</td>\n",
       "      <td>Sometimes</td>\n",
       "      <td>no</td>\n",
       "      <td>2.16</td>\n",
       "      <td>no</td>\n",
       "      <td>0.43</td>\n",
       "      <td>0.716</td>\n",
       "      <td>Sometimes</td>\n",
       "      <td>Automobile</td>\n",
       "      <td>Obesity_Type_II</td>\n",
       "    </tr>\n",
       "  </tbody>\n",
       "</table>\n",
       "</div>"
      ],
      "text/plain": [
       "   Gender   Age  Height  Weight family_history_with_overweight FAVC  FCVC  \\\n",
       "0  Female  18.0    1.82  142.10                            yes  yes  3.00   \n",
       "1    Male  32.0    1.84   98.26                            yes  yes  2.33   \n",
       "2    Male  24.0    1.76  117.33                            yes  yes  1.54   \n",
       "3  Female  26.0    1.62  110.68                            yes  yes  3.00   \n",
       "4    Male  32.0    1.78  121.20                            yes  yes  2.76   \n",
       "\n",
       "       NCP       CAEC SMOKE  CH2O SCC   FAF    TUE       CALC  \\\n",
       "0  3.00000  Sometimes    no  2.71  no  2.00  0.814  Sometimes   \n",
       "1  2.23125  Sometimes    no  2.56  no  1.33  0.481  Sometimes   \n",
       "2  3.00000  Sometimes    no  2.00  no  1.63  0.631  Sometimes   \n",
       "3  3.00000  Sometimes    no  2.69  no  0.00  0.425  Sometimes   \n",
       "4  3.00000  Sometimes    no  2.16  no  0.43  0.716  Sometimes   \n",
       "\n",
       "                  MTRANS           NObeyesdad  \n",
       "0  Public_Transportation     Obesity_Type_III  \n",
       "1             Automobile  Overweight_Level_II  \n",
       "2  Public_Transportation      Obesity_Type_II  \n",
       "3  Public_Transportation     Obesity_Type_III  \n",
       "4             Automobile      Obesity_Type_II  "
      ]
     },
     "execution_count": 24,
     "metadata": {},
     "output_type": "execute_result"
    }
   ],
   "source": [
    "data.head()"
   ]
  },
  {
   "cell_type": "code",
   "execution_count": 25,
   "metadata": {
    "id": "RgTtRU38df5V"
   },
   "outputs": [],
   "source": [
    "# convert string to int values (encoding manual)\n",
    "\n",
    "GenderMap = {\n",
    "    'Male': 1,\n",
    "    'Female': 0\n",
    "}\n",
    "\n",
    "data['Gender'] = data['Gender'].map(GenderMap)\n",
    "testing_data['Gender'] = testing_data['Gender'].map(GenderMap)\n",
    "\n",
    "yes_no_map = {\n",
    "    \"yes\": 1,\n",
    "    \"no\": 0\n",
    "}\n",
    "data['family_history_with_overweight'] = data['family_history_with_overweight'].map(yes_no_map)\n",
    "testing_data['family_history_with_overweight'] = testing_data['family_history_with_overweight'].map(yes_no_map)\n",
    "\n",
    "data['FAVC'] = data['FAVC'].map(yes_no_map)\n",
    "testing_data['FAVC'] = testing_data['FAVC'].map(yes_no_map)\n",
    "\n",
    "Frequency_map = {\n",
    "    'no': 0,\n",
    "    'Sometimes': 3,\n",
    "    'Frequently': 6,\n",
    "    'Always': 10\n",
    "}\n",
    "data['CAEC'] = data['CAEC'].map(Frequency_map)\n",
    "testing_data['CAEC'] = testing_data['CAEC'].map(Frequency_map)\n",
    "\n",
    "data['SMOKE'] = data['SMOKE'].map(yes_no_map)\n",
    "testing_data['SMOKE'] = testing_data['SMOKE'].map(yes_no_map)\n",
    "\n",
    "data['SCC'] = data['SCC'].map(yes_no_map)\n",
    "testing_data['SCC'] = testing_data['SCC'].map(yes_no_map)\n",
    "\n",
    "data['CALC'] = data['CALC'].map(Frequency_map)\n",
    "testing_data['CALC'] = testing_data['CALC'].map(Frequency_map)\n",
    "\n",
    "transportaion_map = {\n",
    "    'Automobile': 0,\n",
    "    'Public_Transportation': 1,\n",
    "    'Motorbike': 2,\n",
    "    'Bike': 3,\n",
    "    'Walking': 4\n",
    "}\n",
    "data['MTRANS'] = data['MTRANS'].map(transportaion_map)\n",
    "testing_data['MTRANS'] = testing_data['MTRANS'].map(transportaion_map)\n",
    "# MTRANS_dummies = pd.get_dummies(data['MTRANS'], prefix='MTRANS')\n",
    "# data = pd.concat([data.drop('MTRANS', axis=1), MTRANS_dummies], axis=1)\n",
    "# MTRANS_dummies_test = pd.get_dummies(testing_data['MTRANS'], prefix='MTRANS')\n",
    "# testing_data = pd.concat([testing_data.drop('MTRANS', axis=1), MTRANS_dummies_test], axis=1)\n",
    "\n",
    "\n",
    "\n",
    "weight_map = {\n",
    "    'Insufficient_Weight': 0,\n",
    "    'Normal_Weight': 1,\n",
    "    'Overweight_Level_I': 2,\n",
    "    'Overweight_Level_II': 3,\n",
    "    'Obesity_Type_I': 4,\n",
    "    'Obesity_Type_II': 5,\n",
    "    'Obesity_Type_III': 6\n",
    "}\n",
    "data['NObeyesdad'] = data['NObeyesdad'].map(weight_map)\n",
    "testing_data['NObeyesdad'] = testing_data['NObeyesdad'].map(weight_map)\n",
    "\n"
   ]
  },
  {
   "cell_type": "code",
   "execution_count": 26,
   "metadata": {
    "colab": {
     "base_uri": "https://localhost:8080/"
    },
    "id": "MZDZDdSi7xtu",
    "outputId": "d772288d-6349-4900-95a4-5c89780c3782"
   },
   "outputs": [
    {
     "name": "stdout",
     "output_type": "stream",
     "text": [
      "<class 'pandas.core.frame.DataFrame'>\n",
      "Index: 1878 entries, 0 to 1899\n",
      "Data columns (total 17 columns):\n",
      " #   Column                          Non-Null Count  Dtype  \n",
      "---  ------                          --------------  -----  \n",
      " 0   Gender                          1878 non-null   int64  \n",
      " 1   Age                             1878 non-null   float64\n",
      " 2   Height                          1878 non-null   float64\n",
      " 3   Weight                          1878 non-null   float64\n",
      " 4   family_history_with_overweight  1878 non-null   int64  \n",
      " 5   FAVC                            1878 non-null   int64  \n",
      " 6   FCVC                            1878 non-null   float64\n",
      " 7   NCP                             1878 non-null   float64\n",
      " 8   CAEC                            1878 non-null   int64  \n",
      " 9   SMOKE                           1878 non-null   int64  \n",
      " 10  CH2O                            1878 non-null   float64\n",
      " 11  SCC                             1878 non-null   int64  \n",
      " 12  FAF                             1878 non-null   float64\n",
      " 13  TUE                             1878 non-null   float64\n",
      " 14  CALC                            1878 non-null   int64  \n",
      " 15  MTRANS                          1878 non-null   int64  \n",
      " 16  NObeyesdad                      1878 non-null   int64  \n",
      "dtypes: float64(8), int64(9)\n",
      "memory usage: 264.1 KB\n"
     ]
    }
   ],
   "source": [
    "data.info()"
   ]
  },
  {
   "cell_type": "code",
   "execution_count": 27,
   "metadata": {
    "colab": {
     "base_uri": "https://localhost:8080/",
     "height": 206
    },
    "id": "nOntKPksmFJ0",
    "outputId": "43f3f810-60c2-4015-e06b-a826fcf95848"
   },
   "outputs": [
    {
     "data": {
      "text/html": [
       "<div>\n",
       "<style scoped>\n",
       "    .dataframe tbody tr th:only-of-type {\n",
       "        vertical-align: middle;\n",
       "    }\n",
       "\n",
       "    .dataframe tbody tr th {\n",
       "        vertical-align: top;\n",
       "    }\n",
       "\n",
       "    .dataframe thead th {\n",
       "        text-align: right;\n",
       "    }\n",
       "</style>\n",
       "<table border=\"1\" class=\"dataframe\">\n",
       "  <thead>\n",
       "    <tr style=\"text-align: right;\">\n",
       "      <th></th>\n",
       "      <th>Gender</th>\n",
       "      <th>Age</th>\n",
       "      <th>Height</th>\n",
       "      <th>Weight</th>\n",
       "      <th>family_history_with_overweight</th>\n",
       "      <th>FAVC</th>\n",
       "      <th>FCVC</th>\n",
       "      <th>NCP</th>\n",
       "      <th>CAEC</th>\n",
       "      <th>SMOKE</th>\n",
       "      <th>CH2O</th>\n",
       "      <th>SCC</th>\n",
       "      <th>FAF</th>\n",
       "      <th>TUE</th>\n",
       "      <th>CALC</th>\n",
       "      <th>MTRANS</th>\n",
       "      <th>NObeyesdad</th>\n",
       "    </tr>\n",
       "  </thead>\n",
       "  <tbody>\n",
       "    <tr>\n",
       "      <th>0</th>\n",
       "      <td>0</td>\n",
       "      <td>18.0</td>\n",
       "      <td>1.82</td>\n",
       "      <td>142.10</td>\n",
       "      <td>1</td>\n",
       "      <td>1</td>\n",
       "      <td>3.00</td>\n",
       "      <td>3.00000</td>\n",
       "      <td>3</td>\n",
       "      <td>0</td>\n",
       "      <td>2.71</td>\n",
       "      <td>0</td>\n",
       "      <td>2.00</td>\n",
       "      <td>0.814</td>\n",
       "      <td>3</td>\n",
       "      <td>1</td>\n",
       "      <td>6</td>\n",
       "    </tr>\n",
       "    <tr>\n",
       "      <th>1</th>\n",
       "      <td>1</td>\n",
       "      <td>32.0</td>\n",
       "      <td>1.84</td>\n",
       "      <td>98.26</td>\n",
       "      <td>1</td>\n",
       "      <td>1</td>\n",
       "      <td>2.33</td>\n",
       "      <td>2.23125</td>\n",
       "      <td>3</td>\n",
       "      <td>0</td>\n",
       "      <td>2.56</td>\n",
       "      <td>0</td>\n",
       "      <td>1.33</td>\n",
       "      <td>0.481</td>\n",
       "      <td>3</td>\n",
       "      <td>0</td>\n",
       "      <td>3</td>\n",
       "    </tr>\n",
       "    <tr>\n",
       "      <th>2</th>\n",
       "      <td>1</td>\n",
       "      <td>24.0</td>\n",
       "      <td>1.76</td>\n",
       "      <td>117.33</td>\n",
       "      <td>1</td>\n",
       "      <td>1</td>\n",
       "      <td>1.54</td>\n",
       "      <td>3.00000</td>\n",
       "      <td>3</td>\n",
       "      <td>0</td>\n",
       "      <td>2.00</td>\n",
       "      <td>0</td>\n",
       "      <td>1.63</td>\n",
       "      <td>0.631</td>\n",
       "      <td>3</td>\n",
       "      <td>1</td>\n",
       "      <td>5</td>\n",
       "    </tr>\n",
       "    <tr>\n",
       "      <th>3</th>\n",
       "      <td>0</td>\n",
       "      <td>26.0</td>\n",
       "      <td>1.62</td>\n",
       "      <td>110.68</td>\n",
       "      <td>1</td>\n",
       "      <td>1</td>\n",
       "      <td>3.00</td>\n",
       "      <td>3.00000</td>\n",
       "      <td>3</td>\n",
       "      <td>0</td>\n",
       "      <td>2.69</td>\n",
       "      <td>0</td>\n",
       "      <td>0.00</td>\n",
       "      <td>0.425</td>\n",
       "      <td>3</td>\n",
       "      <td>1</td>\n",
       "      <td>6</td>\n",
       "    </tr>\n",
       "    <tr>\n",
       "      <th>4</th>\n",
       "      <td>1</td>\n",
       "      <td>32.0</td>\n",
       "      <td>1.78</td>\n",
       "      <td>121.20</td>\n",
       "      <td>1</td>\n",
       "      <td>1</td>\n",
       "      <td>2.76</td>\n",
       "      <td>3.00000</td>\n",
       "      <td>3</td>\n",
       "      <td>0</td>\n",
       "      <td>2.16</td>\n",
       "      <td>0</td>\n",
       "      <td>0.43</td>\n",
       "      <td>0.716</td>\n",
       "      <td>3</td>\n",
       "      <td>0</td>\n",
       "      <td>5</td>\n",
       "    </tr>\n",
       "  </tbody>\n",
       "</table>\n",
       "</div>"
      ],
      "text/plain": [
       "   Gender   Age  Height  Weight  family_history_with_overweight  FAVC  FCVC  \\\n",
       "0       0  18.0    1.82  142.10                               1     1  3.00   \n",
       "1       1  32.0    1.84   98.26                               1     1  2.33   \n",
       "2       1  24.0    1.76  117.33                               1     1  1.54   \n",
       "3       0  26.0    1.62  110.68                               1     1  3.00   \n",
       "4       1  32.0    1.78  121.20                               1     1  2.76   \n",
       "\n",
       "       NCP  CAEC  SMOKE  CH2O  SCC   FAF    TUE  CALC  MTRANS  NObeyesdad  \n",
       "0  3.00000     3      0  2.71    0  2.00  0.814     3       1           6  \n",
       "1  2.23125     3      0  2.56    0  1.33  0.481     3       0           3  \n",
       "2  3.00000     3      0  2.00    0  1.63  0.631     3       1           5  \n",
       "3  3.00000     3      0  2.69    0  0.00  0.425     3       1           6  \n",
       "4  3.00000     3      0  2.16    0  0.43  0.716     3       0           5  "
      ]
     },
     "execution_count": 27,
     "metadata": {},
     "output_type": "execute_result"
    }
   ],
   "source": [
    "data.head()"
   ]
  },
  {
   "cell_type": "code",
   "execution_count": 28,
   "metadata": {
    "id": "CxOagPEHgo3d"
   },
   "outputs": [],
   "source": [
    "X = data.drop(columns=['NObeyesdad'])\n",
    "Y = data['NObeyesdad']\n",
    "\n",
    "X_Test = testing_data.drop(columns=[\"NObeyesdad\"])\n",
    "Y_Test = testing_data['NObeyesdad']\n"
   ]
  },
  {
   "cell_type": "code",
   "execution_count": null,
   "metadata": {
    "id": "ST0gVbnERuDW"
   },
   "outputs": [],
   "source": []
  },
  {
   "cell_type": "code",
   "execution_count": 29,
   "metadata": {
    "id": "zBu9-MUvCaFX"
   },
   "outputs": [],
   "source": [
    "#                                                      Normalizing The Data"
   ]
  },
  {
   "cell_type": "code",
   "execution_count": 30,
   "metadata": {
    "id": "D0tqFvXNCkXB"
   },
   "outputs": [],
   "source": [
    "#Scalling and Normalizing/Standard => we can use built in methods like (MinMaxScaller - StandardScaller) or you can implement with max ,min or std\n",
    "\n",
    "\n",
    "from sklearn.preprocessing import MinMaxScaler\n",
    "scaler=MinMaxScaler()\n",
    "X_scaler=scaler.fit_transform(X)\n",
    "X_Test_scaler=scaler.transform(X_Test)\n",
    "\n",
    "X=pd.DataFrame(X_scaler,columns=X.columns)\n",
    "X_Test=pd.DataFrame(X_Test_scaler,columns=X_Test.columns)"
   ]
  },
  {
   "cell_type": "code",
   "execution_count": 31,
   "metadata": {
    "colab": {
     "base_uri": "https://localhost:8080/",
     "height": 206
    },
    "id": "drtIbizqFXVC",
    "outputId": "db623d16-b02f-482d-81a9-8e8868813b70"
   },
   "outputs": [
    {
     "data": {
      "text/html": [
       "<div>\n",
       "<style scoped>\n",
       "    .dataframe tbody tr th:only-of-type {\n",
       "        vertical-align: middle;\n",
       "    }\n",
       "\n",
       "    .dataframe tbody tr th {\n",
       "        vertical-align: top;\n",
       "    }\n",
       "\n",
       "    .dataframe thead th {\n",
       "        text-align: right;\n",
       "    }\n",
       "</style>\n",
       "<table border=\"1\" class=\"dataframe\">\n",
       "  <thead>\n",
       "    <tr style=\"text-align: right;\">\n",
       "      <th></th>\n",
       "      <th>Gender</th>\n",
       "      <th>Age</th>\n",
       "      <th>Height</th>\n",
       "      <th>Weight</th>\n",
       "      <th>family_history_with_overweight</th>\n",
       "      <th>FAVC</th>\n",
       "      <th>FCVC</th>\n",
       "      <th>NCP</th>\n",
       "      <th>CAEC</th>\n",
       "      <th>SMOKE</th>\n",
       "      <th>CH2O</th>\n",
       "      <th>SCC</th>\n",
       "      <th>FAF</th>\n",
       "      <th>TUE</th>\n",
       "      <th>CALC</th>\n",
       "      <th>MTRANS</th>\n",
       "    </tr>\n",
       "  </thead>\n",
       "  <tbody>\n",
       "    <tr>\n",
       "      <th>0</th>\n",
       "      <td>0.0</td>\n",
       "      <td>0.190476</td>\n",
       "      <td>0.698113</td>\n",
       "      <td>0.781246</td>\n",
       "      <td>1.0</td>\n",
       "      <td>1.0</td>\n",
       "      <td>1.000</td>\n",
       "      <td>0.625</td>\n",
       "      <td>0.3</td>\n",
       "      <td>0.0</td>\n",
       "      <td>0.855</td>\n",
       "      <td>0.0</td>\n",
       "      <td>0.666667</td>\n",
       "      <td>0.4070</td>\n",
       "      <td>0.3</td>\n",
       "      <td>0.25</td>\n",
       "    </tr>\n",
       "    <tr>\n",
       "      <th>1</th>\n",
       "      <td>1.0</td>\n",
       "      <td>0.857143</td>\n",
       "      <td>0.735849</td>\n",
       "      <td>0.449046</td>\n",
       "      <td>1.0</td>\n",
       "      <td>1.0</td>\n",
       "      <td>0.665</td>\n",
       "      <td>0.000</td>\n",
       "      <td>0.3</td>\n",
       "      <td>0.0</td>\n",
       "      <td>0.780</td>\n",
       "      <td>0.0</td>\n",
       "      <td>0.443333</td>\n",
       "      <td>0.2405</td>\n",
       "      <td>0.3</td>\n",
       "      <td>0.00</td>\n",
       "    </tr>\n",
       "    <tr>\n",
       "      <th>2</th>\n",
       "      <td>1.0</td>\n",
       "      <td>0.476190</td>\n",
       "      <td>0.584906</td>\n",
       "      <td>0.593550</td>\n",
       "      <td>1.0</td>\n",
       "      <td>1.0</td>\n",
       "      <td>0.270</td>\n",
       "      <td>0.625</td>\n",
       "      <td>0.3</td>\n",
       "      <td>0.0</td>\n",
       "      <td>0.500</td>\n",
       "      <td>0.0</td>\n",
       "      <td>0.543333</td>\n",
       "      <td>0.3155</td>\n",
       "      <td>0.3</td>\n",
       "      <td>0.25</td>\n",
       "    </tr>\n",
       "    <tr>\n",
       "      <th>3</th>\n",
       "      <td>0.0</td>\n",
       "      <td>0.571429</td>\n",
       "      <td>0.320755</td>\n",
       "      <td>0.543159</td>\n",
       "      <td>1.0</td>\n",
       "      <td>1.0</td>\n",
       "      <td>1.000</td>\n",
       "      <td>0.625</td>\n",
       "      <td>0.3</td>\n",
       "      <td>0.0</td>\n",
       "      <td>0.845</td>\n",
       "      <td>0.0</td>\n",
       "      <td>0.000000</td>\n",
       "      <td>0.2125</td>\n",
       "      <td>0.3</td>\n",
       "      <td>0.25</td>\n",
       "    </tr>\n",
       "    <tr>\n",
       "      <th>4</th>\n",
       "      <td>1.0</td>\n",
       "      <td>0.857143</td>\n",
       "      <td>0.622642</td>\n",
       "      <td>0.622875</td>\n",
       "      <td>1.0</td>\n",
       "      <td>1.0</td>\n",
       "      <td>0.880</td>\n",
       "      <td>0.625</td>\n",
       "      <td>0.3</td>\n",
       "      <td>0.0</td>\n",
       "      <td>0.580</td>\n",
       "      <td>0.0</td>\n",
       "      <td>0.143333</td>\n",
       "      <td>0.3580</td>\n",
       "      <td>0.3</td>\n",
       "      <td>0.00</td>\n",
       "    </tr>\n",
       "  </tbody>\n",
       "</table>\n",
       "</div>"
      ],
      "text/plain": [
       "   Gender       Age    Height    Weight  family_history_with_overweight  FAVC  \\\n",
       "0     0.0  0.190476  0.698113  0.781246                             1.0   1.0   \n",
       "1     1.0  0.857143  0.735849  0.449046                             1.0   1.0   \n",
       "2     1.0  0.476190  0.584906  0.593550                             1.0   1.0   \n",
       "3     0.0  0.571429  0.320755  0.543159                             1.0   1.0   \n",
       "4     1.0  0.857143  0.622642  0.622875                             1.0   1.0   \n",
       "\n",
       "    FCVC    NCP  CAEC  SMOKE   CH2O  SCC       FAF     TUE  CALC  MTRANS  \n",
       "0  1.000  0.625   0.3    0.0  0.855  0.0  0.666667  0.4070   0.3    0.25  \n",
       "1  0.665  0.000   0.3    0.0  0.780  0.0  0.443333  0.2405   0.3    0.00  \n",
       "2  0.270  0.625   0.3    0.0  0.500  0.0  0.543333  0.3155   0.3    0.25  \n",
       "3  1.000  0.625   0.3    0.0  0.845  0.0  0.000000  0.2125   0.3    0.25  \n",
       "4  0.880  0.625   0.3    0.0  0.580  0.0  0.143333  0.3580   0.3    0.00  "
      ]
     },
     "execution_count": 31,
     "metadata": {},
     "output_type": "execute_result"
    }
   ],
   "source": [
    "X.head() # check the normalize on the train data"
   ]
  },
  {
   "cell_type": "code",
   "execution_count": 32,
   "metadata": {
    "colab": {
     "base_uri": "https://localhost:8080/",
     "height": 206
    },
    "id": "GD8L5DxBFgS9",
    "outputId": "feaf7733-1fb7-4a89-cda5-63071d6a3f1a"
   },
   "outputs": [
    {
     "data": {
      "text/html": [
       "<div>\n",
       "<style scoped>\n",
       "    .dataframe tbody tr th:only-of-type {\n",
       "        vertical-align: middle;\n",
       "    }\n",
       "\n",
       "    .dataframe tbody tr th {\n",
       "        vertical-align: top;\n",
       "    }\n",
       "\n",
       "    .dataframe thead th {\n",
       "        text-align: right;\n",
       "    }\n",
       "</style>\n",
       "<table border=\"1\" class=\"dataframe\">\n",
       "  <thead>\n",
       "    <tr style=\"text-align: right;\">\n",
       "      <th></th>\n",
       "      <th>Gender</th>\n",
       "      <th>Age</th>\n",
       "      <th>Height</th>\n",
       "      <th>Weight</th>\n",
       "      <th>family_history_with_overweight</th>\n",
       "      <th>FAVC</th>\n",
       "      <th>FCVC</th>\n",
       "      <th>NCP</th>\n",
       "      <th>CAEC</th>\n",
       "      <th>SMOKE</th>\n",
       "      <th>CH2O</th>\n",
       "      <th>SCC</th>\n",
       "      <th>FAF</th>\n",
       "      <th>TUE</th>\n",
       "      <th>CALC</th>\n",
       "      <th>MTRANS</th>\n",
       "    </tr>\n",
       "  </thead>\n",
       "  <tbody>\n",
       "    <tr>\n",
       "      <th>0</th>\n",
       "      <td>1.0</td>\n",
       "      <td>1.000000</td>\n",
       "      <td>0.490566</td>\n",
       "      <td>0.346446</td>\n",
       "      <td>1.0</td>\n",
       "      <td>1.0</td>\n",
       "      <td>0.94</td>\n",
       "      <td>0.625</td>\n",
       "      <td>0.3</td>\n",
       "      <td>0.0</td>\n",
       "      <td>1.000</td>\n",
       "      <td>0.0</td>\n",
       "      <td>0.666667</td>\n",
       "      <td>0.416</td>\n",
       "      <td>0.0</td>\n",
       "      <td>0.00</td>\n",
       "    </tr>\n",
       "    <tr>\n",
       "      <th>1</th>\n",
       "      <td>1.0</td>\n",
       "      <td>0.238095</td>\n",
       "      <td>0.566038</td>\n",
       "      <td>0.462231</td>\n",
       "      <td>1.0</td>\n",
       "      <td>1.0</td>\n",
       "      <td>0.50</td>\n",
       "      <td>0.625</td>\n",
       "      <td>0.6</td>\n",
       "      <td>0.0</td>\n",
       "      <td>0.500</td>\n",
       "      <td>0.0</td>\n",
       "      <td>0.666667</td>\n",
       "      <td>0.000</td>\n",
       "      <td>0.0</td>\n",
       "      <td>0.25</td>\n",
       "    </tr>\n",
       "    <tr>\n",
       "      <th>2</th>\n",
       "      <td>1.0</td>\n",
       "      <td>0.238095</td>\n",
       "      <td>0.754717</td>\n",
       "      <td>0.197016</td>\n",
       "      <td>1.0</td>\n",
       "      <td>0.0</td>\n",
       "      <td>0.50</td>\n",
       "      <td>0.625</td>\n",
       "      <td>0.3</td>\n",
       "      <td>0.0</td>\n",
       "      <td>1.000</td>\n",
       "      <td>0.0</td>\n",
       "      <td>0.666667</td>\n",
       "      <td>0.500</td>\n",
       "      <td>0.3</td>\n",
       "      <td>0.75</td>\n",
       "    </tr>\n",
       "    <tr>\n",
       "      <th>3</th>\n",
       "      <td>1.0</td>\n",
       "      <td>0.809524</td>\n",
       "      <td>0.622642</td>\n",
       "      <td>0.618631</td>\n",
       "      <td>1.0</td>\n",
       "      <td>1.0</td>\n",
       "      <td>0.75</td>\n",
       "      <td>0.625</td>\n",
       "      <td>0.3</td>\n",
       "      <td>0.0</td>\n",
       "      <td>0.520</td>\n",
       "      <td>0.0</td>\n",
       "      <td>0.280000</td>\n",
       "      <td>0.245</td>\n",
       "      <td>0.3</td>\n",
       "      <td>0.00</td>\n",
       "    </tr>\n",
       "    <tr>\n",
       "      <th>4</th>\n",
       "      <td>1.0</td>\n",
       "      <td>0.523810</td>\n",
       "      <td>0.660377</td>\n",
       "      <td>0.620601</td>\n",
       "      <td>1.0</td>\n",
       "      <td>1.0</td>\n",
       "      <td>0.60</td>\n",
       "      <td>0.625</td>\n",
       "      <td>0.3</td>\n",
       "      <td>0.0</td>\n",
       "      <td>0.755</td>\n",
       "      <td>0.0</td>\n",
       "      <td>0.553333</td>\n",
       "      <td>0.064</td>\n",
       "      <td>0.3</td>\n",
       "      <td>0.25</td>\n",
       "    </tr>\n",
       "  </tbody>\n",
       "</table>\n",
       "</div>"
      ],
      "text/plain": [
       "   Gender       Age    Height    Weight  family_history_with_overweight  FAVC  \\\n",
       "0     1.0  1.000000  0.490566  0.346446                             1.0   1.0   \n",
       "1     1.0  0.238095  0.566038  0.462231                             1.0   1.0   \n",
       "2     1.0  0.238095  0.754717  0.197016                             1.0   0.0   \n",
       "3     1.0  0.809524  0.622642  0.618631                             1.0   1.0   \n",
       "4     1.0  0.523810  0.660377  0.620601                             1.0   1.0   \n",
       "\n",
       "   FCVC    NCP  CAEC  SMOKE   CH2O  SCC       FAF    TUE  CALC  MTRANS  \n",
       "0  0.94  0.625   0.3    0.0  1.000  0.0  0.666667  0.416   0.0    0.00  \n",
       "1  0.50  0.625   0.6    0.0  0.500  0.0  0.666667  0.000   0.0    0.25  \n",
       "2  0.50  0.625   0.3    0.0  1.000  0.0  0.666667  0.500   0.3    0.75  \n",
       "3  0.75  0.625   0.3    0.0  0.520  0.0  0.280000  0.245   0.3    0.00  \n",
       "4  0.60  0.625   0.3    0.0  0.755  0.0  0.553333  0.064   0.3    0.25  "
      ]
     },
     "execution_count": 32,
     "metadata": {},
     "output_type": "execute_result"
    }
   ],
   "source": [
    "X_Test.head()  # check the normalize on the test data"
   ]
  },
  {
   "cell_type": "code",
   "execution_count": 33,
   "metadata": {
    "id": "DFNy5H9c-7Ey"
   },
   "outputs": [],
   "source": [
    "#                                                     Feature Selection"
   ]
  },
  {
   "cell_type": "code",
   "execution_count": 34,
   "metadata": {
    "colab": {
     "base_uri": "https://localhost:8080/"
    },
    "id": "CZwp0MTNDCLw",
    "outputId": "3d729bf5-2fa6-42a2-ffff-9189b050f429"
   },
   "outputs": [
    {
     "name": "stdout",
     "output_type": "stream",
     "text": [
      "NObeyesdad                        1.000000\n",
      "Weight                            0.912874\n",
      "family_history_with_overweight    0.504136\n",
      "Age                               0.326401\n",
      "FAVC                              0.247151\n",
      "FCVC                              0.231052\n",
      "CALC                              0.155326\n",
      "CH2O                              0.134555\n",
      "Height                            0.121440\n",
      "SMOKE                            -0.002298\n",
      "Gender                           -0.039361\n",
      "NCP                              -0.043767\n",
      "MTRANS                           -0.099934\n",
      "TUE                              -0.110490\n",
      "SCC                              -0.196098\n",
      "FAF                              -0.206686\n",
      "CAEC                             -0.337896\n",
      "Name: NObeyesdad, dtype: float64\n"
     ]
    }
   ],
   "source": [
    "# giving the corelation between the features and the target\n",
    "\n",
    "correlation_with_target = data.corr()['NObeyesdad'].sort_values(ascending=False)\n",
    "print(correlation_with_target)"
   ]
  },
  {
   "cell_type": "code",
   "execution_count": 35,
   "metadata": {
    "id": "PfJ2E-7yEcN8"
   },
   "outputs": [],
   "source": [
    "#  SMOKE feature it has no corelation but (GENDER  and NCP) has weak coreltaion\n",
    "\n",
    "# X = X.drop(columns=[\"NCP\", \"SMOKE\", \"Gender\"])\n",
    "# X_Test = X_Test.drop(columns=[\"NCP\", \"SMOKE\", \"Gender\"])\n",
    "\n",
    "X = X.drop(columns=[\"SMOKE\"])\n",
    "X_Test = X_Test.drop(columns=[\"SMOKE\"])"
   ]
  },
  {
   "cell_type": "code",
   "execution_count": 36,
   "metadata": {
    "id": "C_VdDfb7IrUR"
   },
   "outputs": [],
   "source": [
    "# calling the outliers function for the x and x_test\n",
    "X=handleOutliers(X)\n",
    "X_Test=handleOutliers(X_Test)"
   ]
  },
  {
   "cell_type": "code",
   "execution_count": 37,
   "metadata": {
    "colab": {
     "base_uri": "https://localhost:8080/",
     "height": 716
    },
    "id": "SZg-S2_hHGQz",
    "outputId": "7e1a69a1-2acd-4e5c-c3cb-f2df584bdbd2"
   },
   "outputs": [
    {
     "data": {
      "image/png": "[encoded data removed]",
      "text/plain": [
       "<Figure size 1200x600 with 1 Axes>"
      ]
     },
     "metadata": {},
     "output_type": "display_data"
    }
   ],
   "source": [
    "# Get the box plots of the x_training set again to check\n",
    "plt.figure(figsize=(12,6))\n",
    "plt.title(\"Box plots for the Training Set (numerical)\")\n",
    "sns.boxplot(data=X.select_dtypes(include='number'))\n",
    "plt.xticks(rotation=45)\n",
    "plt.show()"
   ]
  },
  {
   "cell_type": "code",
   "execution_count": 38,
   "metadata": {
    "colab": {
     "base_uri": "https://localhost:8080/",
     "height": 983
    },
    "id": "L9Nk2mICJU5j",
    "outputId": "84d76a85-73ef-4a0b-e722-68fe4a8775b2"
   },
   "outputs": [
    {
     "data": {
      "image/png": "[encoded data removed]",
      "text/plain": [
       "<Figure size 1200x1000 with 2 Axes>"
      ]
     },
     "metadata": {},
     "output_type": "display_data"
    }
   ],
   "source": [
    "import matplotlib.pyplot as plt\n",
    "import seaborn as sns\n",
    "import numpy as np\n",
    "\n",
    "# Calculate correlation matrix\n",
    "corr = X.corr()\n",
    "\n",
    "# Create a mask to display only the lower triangle\n",
    "sns.set(style=\"white\")\n",
    "mask = np.triu(np.ones_like(corr, dtype=bool))  # upper triangle mask\n",
    "\n",
    "# Set the figure size (adjust depending on number of features)\n",
    "plt.figure(figsize=(12, 10))\n",
    "\n",
    "# Create the heatmap\n",
    "sns.heatmap(\n",
    "    corr,\n",
    "    mask=mask,\n",
    "    annot=True,             # show correlation values\n",
    "    cmap='coolwarm',        # color map\n",
    "    fmt=\".2f\",              # format for numbers\n",
    "    annot_kws={\"size\": 9},  # font size of annotations\n",
    "    linewidths=.5,          # line width between cells\n",
    "    cbar_kws={\"shrink\": .6},# shrink colorbar\n",
    "    square=True             # make cells square\n",
    ")\n",
    "\n",
    "# Rotate x-axis labels for better readability\n",
    "plt.xticks(rotation=45, ha='right')\n",
    "plt.yticks(rotation=0)\n",
    "\n",
    "# Add a title\n",
    "plt.title(\"Feature Correlation Heatmap\", fontsize=14, fontweight='bold')\n",
    "\n",
    "# Fit layout\n",
    "plt.tight_layout()\n",
    "\n",
    "# Show plot\n",
    "plt.show()\n"
   ]
  },
  {
   "cell_type": "code",
   "execution_count": 39,
   "metadata": {
    "colab": {
     "base_uri": "https://localhost:8080/",
     "height": 716
    },
    "id": "x-9Mle8pI08y",
    "outputId": "2fb65d8d-ea7e-4049-cbd7-b2b21c2949dd"
   },
   "outputs": [
    {
     "data": {
      "image/png": "[encoded data removed]",
      "text/plain": [
       "<Figure size 1200x600 with 1 Axes>"
      ]
     },
     "metadata": {},
     "output_type": "display_data"
    }
   ],
   "source": [
    "# Get the box plots of x_test set again to check\n",
    "plt.figure(figsize=(12,6))\n",
    "plt.title(\"Box plots for the Test Set (numerical)\")\n",
    "sns.boxplot(data=X_Test.select_dtypes(include='number'))\n",
    "plt.xticks(rotation=45)\n",
    "plt.show()"
   ]
  },
  {
   "cell_type": "code",
   "execution_count": 40,
   "metadata": {
    "colab": {
     "base_uri": "https://localhost:8080/",
     "height": 983
    },
    "id": "2FKy7acsLNG7",
    "outputId": "39943fd2-73ad-4865-92ea-4bc1bd240d0c"
   },
   "outputs": [
    {
     "data": {
      "image/png": "[encoded data removed]",
      "text/plain": [
       "<Figure size 1200x1000 with 2 Axes>"
      ]
     },
     "metadata": {},
     "output_type": "display_data"
    }
   ],
   "source": [
    "import matplotlib.pyplot as plt\n",
    "import seaborn as sns\n",
    "import numpy as np\n",
    "\n",
    "# Calculate correlation matrix\n",
    "corr = X_Test.corr()\n",
    "\n",
    "# Create a mask to display only the lower triangle\n",
    "sns.set(style=\"white\")\n",
    "mask = np.triu(np.ones_like(corr, dtype=bool))  # upper triangle mask\n",
    "\n",
    "# Set the figure size (adjust depending on number of features)\n",
    "plt.figure(figsize=(12, 10))\n",
    "\n",
    "# Create the heatmap\n",
    "sns.heatmap(\n",
    "    corr,\n",
    "    mask=mask,\n",
    "    annot=True,             # show correlation values\n",
    "    cmap='coolwarm',        # color map\n",
    "    fmt=\".2f\",              # format for numbers\n",
    "    annot_kws={\"size\": 9},  # font size of annotations\n",
    "    linewidths=.5,          # line width between cells\n",
    "    cbar_kws={\"shrink\": .6},# shrink colorbar\n",
    "    square=True             # make cells square\n",
    ")\n",
    "\n",
    "# Rotate x-axis labels for better readability\n",
    "plt.xticks(rotation=45, ha='right')\n",
    "plt.yticks(rotation=0)\n",
    "\n",
    "# Add a title\n",
    "plt.title(\"Feature Correlation Heatmap\", fontsize=14, fontweight='bold')\n",
    "\n",
    "# Fit layout\n",
    "plt.tight_layout()\n",
    "\n",
    "# Show plot\n",
    "plt.show()\n"
   ]
  },
  {
   "cell_type": "code",
   "execution_count": 41,
   "metadata": {
    "colab": {
     "base_uri": "https://localhost:8080/"
    },
    "id": "ShoNM7OtlqWD",
    "outputId": "0942dad8-40d1-4aa2-e5f6-9293c697510d"
   },
   "outputs": [
    {
     "name": "stdout",
     "output_type": "stream",
     "text": [
      "Fitting 5 folds for each of 16 candidates, totalling 80 fits\n",
      "Best Parameters: {'metric': 'manhattan', 'n_neighbors': 3, 'weights': 'distance'}\n",
      "Accuracy: 0.8862559241706162\n",
      "Classification Report:\n",
      "               precision    recall  f1-score   support\n",
      "\n",
      "           0       0.81      0.92      0.86        24\n",
      "           1       0.78      0.66      0.71        32\n",
      "           2       0.81      0.96      0.88        26\n",
      "           3       0.85      0.85      0.85        34\n",
      "           4       0.93      0.86      0.89        29\n",
      "           5       1.00      0.97      0.99        38\n",
      "           6       1.00      1.00      1.00        28\n",
      "\n",
      "    accuracy                           0.89       211\n",
      "   macro avg       0.88      0.89      0.88       211\n",
      "weighted avg       0.89      0.89      0.88       211\n",
      "\n"
     ]
    }
   ],
   "source": [
    "# KNN_Modeling\n",
    "from sklearn.neighbors import KNeighborsClassifier\n",
    "from sklearn.model_selection import GridSearchCV\n",
    "from sklearn.metrics import accuracy_score, classification_report\n",
    "\n",
    "# Define the base model\n",
    "knn = KNeighborsClassifier()\n",
    "\n",
    "# Define hyperparameters to search\n",
    "param_grid = {\n",
    "    'n_neighbors': [3, 5, 7, 9],\n",
    "    'weights': ['uniform', 'distance'],\n",
    "    'metric': ['euclidean', 'manhattan']\n",
    "}\n",
    "\n",
    "# Apply Grid Search with 5-fold cross-validation\n",
    "grid_search = GridSearchCV(\n",
    "    estimator=knn,\n",
    "    param_grid=param_grid,\n",
    "    cv=5,\n",
    "    scoring='accuracy',\n",
    "    n_jobs=-1,\n",
    "    verbose=1\n",
    ")\n",
    "\n",
    "# Train the model on training data\n",
    "grid_search.fit(X, Y)\n",
    "\n",
    "# Get best model\n",
    "best_knn = grid_search.best_estimator_\n",
    "\n",
    "# Predict on test data\n",
    "y_pred = best_knn.predict(X_Test)\n",
    "\n",
    "# Evaluate performance\n",
    "print(\"Best Parameters:\", grid_search.best_params_)\n",
    "print(\"Accuracy:\", accuracy_score(Y_Test, y_pred))\n",
    "print(\"Classification Report:\\n\", classification_report(Y_Test, y_pred))\n"
   ]
  },
  {
   "cell_type": "code",
   "execution_count": 42,
   "metadata": {
    "colab": {
     "base_uri": "https://localhost:8080/"
    },
    "id": "yjv79R7c0h1p",
    "outputId": "542f2ede-2189-47e3-c5d9-931ac5c2f67e"
   },
   "outputs": [
    {
     "name": "stdout",
     "output_type": "stream",
     "text": [
      "Accuracy: 0.981042654028436\n",
      "              precision    recall  f1-score   support\n",
      "\n",
      "           0       1.00      1.00      1.00        24\n",
      "           1       1.00      0.97      0.98        32\n",
      "           2       0.87      1.00      0.93        26\n",
      "           3       1.00      0.91      0.95        34\n",
      "           4       1.00      1.00      1.00        29\n",
      "           5       1.00      1.00      1.00        38\n",
      "           6       1.00      1.00      1.00        28\n",
      "\n",
      "    accuracy                           0.98       211\n",
      "   macro avg       0.98      0.98      0.98       211\n",
      "weighted avg       0.98      0.98      0.98       211\n",
      "\n",
      "Train Accuracy: 1.0\n"
     ]
    }
   ],
   "source": [
    "#Gradient Boosting\n",
    "from sklearn.ensemble import GradientBoostingClassifier\n",
    "from sklearn.metrics import accuracy_score, classification_report, confusion_matrix\n",
    "# Initialize the model\n",
    "model = GradientBoostingClassifier(n_estimators=200, learning_rate=0.1, max_depth=3, random_state=42)\n",
    "# Train the model\n",
    "model.fit(X, Y)\n",
    "\n",
    "# Predict on test data\n",
    "y_pred = model.predict(X_Test)\n",
    "\n",
    "# Evaluation\n",
    "print(\"Accuracy:\", accuracy_score(Y_Test, y_pred))\n",
    "print(classification_report(Y_Test, y_pred))\n",
    "\n",
    "train_preds = model.predict(X)\n",
    "\n",
    "train_acc = accuracy_score(Y, train_preds)\n",
    "\n",
    "print(\"Train Accuracy:\", train_acc)\n"
   ]
  },
  {
   "cell_type": "code",
   "execution_count": 43,
   "metadata": {
    "colab": {
     "base_uri": "https://localhost:8080/"
    },
    "id": "BExdCuGRjjnl",
    "outputId": "0e3beb77-cd13-425e-f865-c0cb1581b613"
   },
   "outputs": [
    {
     "name": "stdout",
     "output_type": "stream",
     "text": [
      "Fitting 5 folds for each of 32 candidates, totalling 160 fits\n",
      "Random Forest Best Params: {'max_depth': None, 'max_features': 'sqrt', 'n_estimators': 150}\n",
      "Accuracy: 0.966824644549763\n",
      "Classification Report:\n",
      "               precision    recall  f1-score   support\n",
      "\n",
      "           0       1.00      1.00      1.00        24\n",
      "           1       0.86      0.94      0.90        32\n",
      "           2       0.92      0.92      0.92        26\n",
      "           3       1.00      0.91      0.95        34\n",
      "           4       1.00      1.00      1.00        29\n",
      "           5       1.00      1.00      1.00        38\n",
      "           6       1.00      1.00      1.00        28\n",
      "\n",
      "    accuracy                           0.97       211\n",
      "   macro avg       0.97      0.97      0.97       211\n",
      "weighted avg       0.97      0.97      0.97       211\n",
      "\n"
     ]
    }
   ],
   "source": [
    "# Random Forest\n",
    "from sklearn.ensemble import RandomForestClassifier\n",
    "# Model\n",
    "rf_model = RandomForestClassifier()\n",
    "\n",
    "# Parameter Grid\n",
    "rf_params = {\n",
    "    'n_estimators': [100, 150,200,1000],\n",
    "    'max_depth': [None, 5,10, 20],\n",
    "    'max_features': ['sqrt', 'log2']\n",
    "}\n",
    "\n",
    "# Grid Search\n",
    "rf_grid = GridSearchCV(\n",
    "    rf_model,\n",
    "    rf_params,\n",
    "    cv=5,\n",
    "    scoring='accuracy',\n",
    "    n_jobs=-1,\n",
    "    verbose=1\n",
    ")\n",
    "\n",
    "rf_grid.fit(X, Y)\n",
    "y_pred_rf = rf_grid.best_estimator_.predict(X_Test)\n",
    "y_pred_data = rf_grid.best_estimator_.predict(X)\n",
    "\n",
    "# Evaluation\n",
    "# print(\"Acurracy for training: \", accuracy_score(Y, y_pred_data))\n",
    "print(\"Random Forest Best Params:\", rf_grid.best_params_)\n",
    "print(\"Accuracy:\", accuracy_score(Y_Test, y_pred_rf))\n",
    "print(\"Classification Report:\\n\", classification_report(Y_Test, y_pred_rf))\n"
   ]
  },
  {
   "cell_type": "code",
   "execution_count": 44,
   "metadata": {
    "colab": {
     "base_uri": "https://localhost:8080/"
    },
    "id": "AIteCdavkgvn",
    "outputId": "6e5eed96-aedb-4258-a676-78be7aea583d"
   },
   "outputs": [
    {
     "name": "stdout",
     "output_type": "stream",
     "text": [
      "Best Hyperparameters: {'C': 1000, 'solver': 'newton-cg'}\n",
      "the accuracy score of training set 0.9675186368477103\n",
      "##################################################\n",
      "the accuracy score of test set 0.95260663507109\n",
      "              precision    recall  f1-score   support\n",
      "\n",
      "           0       0.96      1.00      0.98        24\n",
      "           1       1.00      0.94      0.97        32\n",
      "           2       0.84      1.00      0.91        26\n",
      "           3       1.00      0.82      0.90        34\n",
      "           4       0.93      0.93      0.93        29\n",
      "           5       0.95      1.00      0.97        38\n",
      "           6       1.00      1.00      1.00        28\n",
      "\n",
      "    accuracy                           0.95       211\n",
      "   macro avg       0.95      0.96      0.95       211\n",
      "weighted avg       0.96      0.95      0.95       211\n",
      "\n",
      "the confusion matrix is [[24  0  0  0  0  0  0]\n",
      " [ 1 30  1  0  0  0  0]\n",
      " [ 0  0 26  0  0  0  0]\n",
      " [ 0  0  4 28  2  0  0]\n",
      " [ 0  0  0  0 27  2  0]\n",
      " [ 0  0  0  0  0 38  0]\n",
      " [ 0  0  0  0  0  0 28]]\n"
     ]
    }
   ],
   "source": [
    "# Logisti Regression\n",
    "from sklearn.linear_model import LogisticRegression\n",
    "from sklearn.metrics import accuracy_score,classification_report,confusion_matrix\n",
    "from sklearn.model_selection import GridSearchCV\n",
    "param_grid = {\n",
    "    'C': [0.01, 0.1, 1, 10, 100, 1000],\n",
    "    'solver': ['newton-cg'],\n",
    "}\n",
    "# Logistic Regression Model\n",
    "Logisticmodel=LogisticRegression(solver='newton-cg',penalty='l2',C=1000,random_state=42)\n",
    "# GridSearchCV\n",
    "grid_search = GridSearchCV(Logisticmodel, param_grid, cv=5, scoring='accuracy')\n",
    "grid_search.fit(X, Y)\n",
    "best_params = grid_search.best_params_\n",
    "# Get the best Params\n",
    "print(f\"Best Hyperparameters: {best_params}\")\n",
    "#fit the model\n",
    "Logisticmodel.fit(X,Y)\n",
    "# training accuracy\n",
    "y_pred=Logisticmodel.predict(X_Test)\n",
    "y_train_pred=Logisticmodel.predict(X)\n",
    "print(f\"the accuracy score of training set {accuracy_score(Y,y_train_pred)}\")\n",
    "print('#'*50)\n",
    "print(f\"the accuracy score of test set {accuracy_score(Y_Test,y_pred)}\")\n",
    "print(f\"{classification_report(Y_Test,y_pred)}\")\n",
    "print(f\"the confusion matrix is {confusion_matrix(Y_Test,y_pred)}\")"
   ]
  },
  {
   "cell_type": "code",
   "execution_count": 43,
   "metadata": {
    "colab": {
     "base_uri": "https://localhost:8080/"
    },
    "id": "6wAQIE9_Xohu",
    "outputId": "b87c75f5-171f-45dc-d09a-34d6cb11c302"
   },
   "outputs": [
    {
     "name": "stdout",
     "output_type": "stream",
     "text": [
      "Training basic SVM model...\n",
      "\n",
      " Basic SVM Results:\n",
      "Test Accuracy: 0.8483412322274881\n",
      "\n",
      "Confusion Matrix:\n",
      " [[24  0  0  0  0  0  0]\n",
      " [ 7 20  5  0  0  0  0]\n",
      " [ 0  2 22  2  0  0  0]\n",
      " [ 0  4  3 22  5  0  0]\n",
      " [ 0  0  0  1 25  3  0]\n",
      " [ 0  0  0  0  0 38  0]\n",
      " [ 0  0  0  0  0  0 28]]\n",
      "\n",
      "Classification Report:\n",
      "               precision    recall  f1-score   support\n",
      "\n",
      "           0       0.77      1.00      0.87        24\n",
      "           1       0.77      0.62      0.69        32\n",
      "           2       0.73      0.85      0.79        26\n",
      "           3       0.88      0.65      0.75        34\n",
      "           4       0.83      0.86      0.85        29\n",
      "           5       0.93      1.00      0.96        38\n",
      "           6       1.00      1.00      1.00        28\n",
      "\n",
      "    accuracy                           0.85       211\n",
      "   macro avg       0.85      0.85      0.84       211\n",
      "weighted avg       0.85      0.85      0.84       211\n",
      "\n",
      "\n",
      "Starting hyperparameter tuning...\n",
      "Fitting 5 folds for each of 60 candidates, totalling 300 fits\n",
      "\n",
      " Tuning Results:\n",
      "Best Parameters: {'C': 10, 'gamma': 'scale', 'kernel': 'poly'}\n",
      "Best Cross-Validation Accuracy: 0.9589971631205675\n",
      "\n",
      " Tuned SVM Results:\n",
      "Test Accuracy: 0.9715639810426541\n",
      "\n",
      "Confusion Matrix:\n",
      " [[24  0  0  0  0  0  0]\n",
      " [ 2 29  1  0  0  0  0]\n",
      " [ 0  0 26  0  0  0  0]\n",
      " [ 0  0  1 32  1  0  0]\n",
      " [ 0  0  0  0 29  0  0]\n",
      " [ 0  0  0  0  1 37  0]\n",
      " [ 0  0  0  0  0  0 28]]\n",
      "\n",
      "Classification Report:\n",
      "               precision    recall  f1-score   support\n",
      "\n",
      "           0       0.92      1.00      0.96        24\n",
      "           1       1.00      0.91      0.95        32\n",
      "           2       0.93      1.00      0.96        26\n",
      "           3       1.00      0.94      0.97        34\n",
      "           4       0.94      1.00      0.97        29\n",
      "           5       1.00      0.97      0.99        38\n",
      "           6       1.00      1.00      1.00        28\n",
      "\n",
      "    accuracy                           0.97       211\n",
      "   macro avg       0.97      0.97      0.97       211\n",
      "weighted avg       0.97      0.97      0.97       211\n",
      "\n"
     ]
    }
   ],
   "source": [
    "# SVM Model\n",
    "from sklearn.svm import SVC\n",
    "from sklearn.model_selection import GridSearchCV\n",
    "from sklearn.metrics import classification_report, confusion_matrix, accuracy_score\n",
    "\n",
    "\n",
    "print(\"Training basic SVM model...\")\n",
    "svm_model = SVC(kernel='rbf', C=1.0, gamma='scale', random_state=42)\n",
    "svm_model.fit(X, Y)\n",
    "\n",
    "# Predict on the test set\n",
    "svm_preds = svm_model.predict(X_Test)\n",
    "\n",
    "# Evaluate the basic model\n",
    "print(\"\\n Basic SVM Results:\")\n",
    "print(\"Test Accuracy:\", accuracy_score(Y_Test, svm_preds))\n",
    "print(\"\\nConfusion Matrix:\\n\", confusion_matrix(Y_Test, svm_preds))\n",
    "print(\"\\nClassification Report:\\n\", classification_report(Y_Test, svm_preds))\n",
    "\n",
    "# --------------------------------------\n",
    "# Hyperparameter Tuning with GridSearchCV\n",
    "# --------------------------------------\n",
    "print(\"\\nStarting hyperparameter tuning...\")\n",
    "param_grid = {\n",
    "    'C': [0.1, 1, 10, 100],          # Regularization parameter\n",
    "    'gamma': ['scale', 'auto', 0.1, 0.01, 0.001],  # Kernel coefficient\n",
    "    'kernel': ['rbf', 'poly', 'sigmoid']  # Kernel type\n",
    "}\n",
    "\n",
    "# Create GridSearchCV object\n",
    "grid = GridSearchCV(\n",
    "    SVC(random_state=42),\n",
    "    param_grid,\n",
    "    cv=5,                # 5-fold cross-validation\n",
    "    scoring='accuracy',  # Evaluation metric\n",
    "    n_jobs=-1,          # Use all available cores\n",
    "    verbose=1           # Show progress\n",
    ")\n",
    "\n",
    "# Perform grid search\n",
    "grid.fit(X, Y)\n",
    "\n",
    "# Results\n",
    "print(\"\\n Tuning Results:\")\n",
    "print(\"Best Parameters:\", grid.best_params_)\n",
    "print(\"Best Cross-Validation Accuracy:\", grid.best_score_)\n",
    "\n",
    "# Get best estimator\n",
    "best_svm = grid.best_estimator_\n",
    "\n",
    "# Predict using the best model\n",
    "best_svm_preds = best_svm.predict(X_Test)\n",
    "\n",
    "# Evaluate the tuned model\n",
    "print(\"\\n Tuned SVM Results:\")\n",
    "print(\"Test Accuracy:\", accuracy_score(Y_Test, best_svm_preds))\n",
    "print(\"\\nConfusion Matrix:\\n\", confusion_matrix(Y_Test, best_svm_preds))\n",
    "print(\"\\nClassification Report:\\n\", classification_report(Y_Test, best_svm_preds))\n",
    "\n",
    "# Plot feature importance (for linear kernel)\n",
    "if best_svm.kernel == 'linear':\n",
    "    plt.figure(figsize=(12, 6))\n",
    "    plt.barh(range(len(X.columns)), best_svm.coef_[0], align='center')\n",
    "    plt.yticks(range(len(X.columns)), X.columns)\n",
    "    plt.title(\"Feature Importance (Linear SVM)\")\n",
    "    plt.show()\n"
   ]
  },
  {
   "cell_type": "code",
   "execution_count": 44,
   "metadata": {
    "colab": {
     "base_uri": "https://localhost:8080/"
    },
    "id": "ctpl0EiMT3Eu",
    "outputId": "45a9fc4d-8bab-4dcd-95bc-7fca91d3f712"
   },
   "outputs": [
    {
     "ename": "ModuleNotFoundError",
     "evalue": "No module named 'tensorflow'",
     "output_type": "error",
     "traceback": [
      "\u001b[31m---------------------------------------------------------------------------\u001b[39m",
      "\u001b[31mModuleNotFoundError\u001b[39m                       Traceback (most recent call last)",
      "\u001b[36mCell\u001b[39m\u001b[36m \u001b[39m\u001b[32mIn[44]\u001b[39m\u001b[32m, line 3\u001b[39m\n\u001b[32m      1\u001b[39m \u001b[38;5;66;03m# %%\u001b[39;00m\n\u001b[32m      2\u001b[39m \u001b[38;5;66;03m# Neural Network Model using TensorFlow/Keras\u001b[39;00m\n\u001b[32m----> \u001b[39m\u001b[32m3\u001b[39m \u001b[38;5;28;01mimport\u001b[39;00m\u001b[38;5;250m \u001b[39m\u001b[34;01mtensorflow\u001b[39;00m\u001b[38;5;250m \u001b[39m\u001b[38;5;28;01mas\u001b[39;00m\u001b[38;5;250m \u001b[39m\u001b[34;01mtf\u001b[39;00m\n\u001b[32m      4\u001b[39m \u001b[38;5;28;01mfrom\u001b[39;00m\u001b[38;5;250m \u001b[39m\u001b[34;01mtensorflow\u001b[39;00m\u001b[38;5;250m \u001b[39m\u001b[38;5;28;01mimport\u001b[39;00m keras\n\u001b[32m      5\u001b[39m \u001b[38;5;28;01mfrom\u001b[39;00m\u001b[38;5;250m \u001b[39m\u001b[34;01msklearn\u001b[39;00m\u001b[34;01m.\u001b[39;00m\u001b[34;01mpreprocessing\u001b[39;00m\u001b[38;5;250m \u001b[39m\u001b[38;5;28;01mimport\u001b[39;00m OneHotEncoder\n",
      "\u001b[31mModuleNotFoundError\u001b[39m: No module named 'tensorflow'"
     ]
    }
   ],
   "source": [
    "# %%\n",
    "# Neural Network Model using TensorFlow/Keras\n",
    "import tensorflow as tf\n",
    "from tensorflow import keras\n",
    "from sklearn.preprocessing import OneHotEncoder\n",
    "from sklearn.metrics import accuracy_score, classification_report, confusion_matrix\n",
    "\n",
    "# One-hot encode the target variable for the neural network\n",
    "# Neural networks typically require the target variable to be one-hot encoded for multi-class classification\n",
    "encoder = OneHotEncoder(sparse_output=False)\n",
    "Y_encoded = encoder.fit_transform(Y.values.reshape(-1, 1))\n",
    "Y_Test_encoded = encoder.transform(Y_Test.values.reshape(-1, 1))\n",
    "\n",
    "# Define the model architecture\n",
    "model = keras.Sequential([\n",
    "    keras.layers.Dense(128, activation='relu', input_shape=(X.shape[1],)), # Input layer\n",
    "    keras.layers.Dropout(0.2), # Add dropout for regularization\n",
    "    keras.layers.Dense(64, activation='relu'), # Hidden layer\n",
    "    keras.layers.Dropout(0.2), # Add dropout\n",
    "    keras.layers.Dense(Y_encoded.shape[1], activation='softmax') # Output layer\n",
    "])\n",
    "\n",
    "# Compile the model\n",
    "model.compile(optimizer='adam',\n",
    "              loss='categorical_crossentropy',\n",
    "              metrics=['accuracy'])\n",
    "\n",
    "# Train the model\n",
    "history = model.fit(X, Y_encoded, epochs=50, batch_size=32, validation_split=0.2,verbose=0)\n",
    "\n",
    "# Evaluate the model on the test data\n",
    "loss, accuracy = model.evaluate(X_Test, Y_Test_encoded)\n",
    "# print(f\"\\nTest Loss: {loss:.4f}\")\n",
    "# print(f\"Test Accuracy: {accuracy:.4f}\")\n",
    "\n",
    "# Make predictions on the test data\n",
    "y_pred_probs = model.predict(X_Test)\n",
    "y_pred = tf.argmax(y_pred_probs, axis=1).numpy()\n",
    "\n",
    "# Convert the one-hot encoded true labels back to original labels for evaluation metrics\n",
    "Y_Test_original = tf.argmax(Y_Test_encoded, axis=1).numpy()\n",
    "\n",
    "# Print classification report and confusion matrix\n",
    "print(\"\\nClassification Report:\")\n",
    "print(classification_report(Y_Test_original, y_pred))\n",
    "\n",
    "print(\"\\nConfusion Matrix:\")\n",
    "print(confusion_matrix(Y_Test_original, y_pred))"
   ]
  },
  {
   "cell_type": "code",
   "execution_count": 50,
   "metadata": {
    "id": "hAAi4ddOg-f0"
   },
   "outputs": [],
   "source": [
    "import numpy as np\n",
    "\n",
    "# ---------- One-hot Encoding ----------\n",
    "def one_hot_encode(y, num_classes):\n",
    "    m = y.shape[0]\n",
    "    y_encoded = np.zeros((m, num_classes))\n",
    "    y_encoded[np.arange(m), y] = 1\n",
    "    return y_encoded\n",
    "\n",
    "# ---------- Softmax ----------\n",
    "def softmax(z):\n",
    "    exp_z = np.exp(z - np.max(z, axis=1, keepdims=True))\n",
    "    return exp_z / np.sum(exp_z, axis=1, keepdims=True)\n",
    "\n",
    "# ---------- Initialization ----------\n",
    "def initialize_weights(n_features, n_classes):\n",
    "    W = np.zeros((n_features, n_classes))\n",
    "    b = np.zeros((1, n_classes))\n",
    "    return W, b\n",
    "\n",
    "# ---------- Forward ----------\n",
    "def forward(X, W, b):\n",
    "    Z = np.dot(X, W) + b\n",
    "    return softmax(Z)\n",
    "\n",
    "# ---------- Loss with Regularization ----------\n",
    "def compute_loss(y_true, y_pred, W, reg_lambda=0.01):\n",
    "    m = y_true.shape[0]\n",
    "    data_loss = -np.sum(y_true * np.log(y_pred + 1e-9)) / m\n",
    "    reg_loss = (reg_lambda / (2 * m)) * np.sum(W * W)\n",
    "    return data_loss + reg_loss\n",
    "\n",
    "# ---------- Backward with Regularization ----------\n",
    "def backward(X, y_true, y_pred, W, reg_lambda=0.01):\n",
    "    m = X.shape[0]\n",
    "    dZ = y_pred - y_true\n",
    "    dW = (np.dot(X.T, dZ) / m) + (reg_lambda / m) * W\n",
    "    db = np.sum(dZ, axis=0, keepdims=True) / m\n",
    "    return dW, db\n",
    "\n",
    "# ---------- Predict ----------\n",
    "def predict(X, W, b):\n",
    "    probs = forward(X, W, b)\n",
    "    return np.argmax(probs, axis=1)\n",
    "\n",
    "# ---------- Accuracy ----------\n",
    "def accuracy(y_true, y_pred):\n",
    "    return np.mean(y_true == y_pred)\n",
    "\n",
    "# ---------- Final Train Function ----------\n",
    "def train(X, y, X_test, y_test, num_classes, learning_rate=0.1, epochs=1000, reg_lambda=0.01):\n",
    "    n_samples, n_features = X.shape\n",
    "    y_encoded = one_hot_encode(y, num_classes)\n",
    "\n",
    "    W, b = initialize_weights(n_features, num_classes)\n",
    "\n",
    "    for epoch in range(epochs):\n",
    "        # Forward\n",
    "        y_pred = forward(X, W, b)\n",
    "\n",
    "        # Loss\n",
    "        loss = compute_loss(y_encoded, y_pred, W, reg_lambda)\n",
    "\n",
    "        # Backward\n",
    "        dW, db = backward(X, y_encoded, y_pred, W, reg_lambda)\n",
    "\n",
    "        # Update\n",
    "        W -= learning_rate * dW\n",
    "        b -= learning_rate * db\n",
    "\n",
    "        # Evaluation\n",
    "        if epoch % 100 == 0 or epoch == epochs - 1:\n",
    "            train_acc = accuracy(y, predict(X, W, b))\n",
    "            test_acc = accuracy(y_test, predict(X_test, W, b))\n",
    "            # print(f\"Epoch {epoch} | Loss: {loss:.4f} | Train Acc: {train_acc*100:.2f}% | Test Acc: {test_acc*100:.2f}%\")\n",
    "\n",
    "    return W, b\n"
   ]
  },
  {
   "cell_type": "code",
   "execution_count": 51,
   "metadata": {
    "colab": {
     "base_uri": "https://localhost:8080/"
    },
    "id": "bNF_1UxTi3x6",
    "outputId": "7bc7ddb7-bbc6-4071-fe7d-37e3d167ebec"
   },
   "outputs": [],
   "source": [
    "W, b = train(X, Y, X_Test, Y_Test, 7, 5, 5000, 0.01)"
   ]
  },
  {
   "cell_type": "code",
   "execution_count": 52,
   "metadata": {
    "colab": {
     "base_uri": "https://localhost:8080/"
    },
    "id": "qQN-Elcte8gr",
    "outputId": "3ba61dc5-b6e6-4c83-e7cf-9c2bad633eb2"
   },
   "outputs": [],
   "source": [
    "#\n",
    "W, b = train(X, Y, X_Test, Y_Test, 7, 3, 5000, 0.01)\n"
   ]
  },
  {
   "cell_type": "code",
   "execution_count": 53,
   "metadata": {
    "id": "j_RduKieiKDK"
   },
   "outputs": [],
   "source": [
    "y_train_pred = predict(X, W, b)\n",
    "y_test_pred = predict(X_Test, W, b)\n"
   ]
  },
  {
   "cell_type": "code",
   "execution_count": 54,
   "metadata": {
    "colab": {
     "base_uri": "https://localhost:8080/"
    },
    "id": "MT-ACpmmiMGS",
    "outputId": "c615df7a-2e52-4d9b-903f-48c569f4c5fb"
   },
   "outputs": [
    {
     "name": "stdout",
     "output_type": "stream",
     "text": [
      "\n",
      " Final Training Accuracy: 85.57%\n",
      " Final Testing Accuracy: 85.31%\n"
     ]
    }
   ],
   "source": [
    "train_acc = accuracy(Y, y_train_pred)\n",
    "test_acc = accuracy(Y_Test, y_test_pred)\n",
    "\n",
    "print(f\"\\n Final Training Accuracy: {train_acc * 100:.2f}%\")\n",
    "print(f\" Final Testing Accuracy: {test_acc * 100:.2f}%\")\n"
   ]
  }
 ],
 "metadata": {
  "colab": {
   "provenance": []
  },
  "kernelspec": {
   "display_name": "Python 3 (ipykernel)",
   "language": "python",
   "name": "python3"
  },
  "language_info": {
   "codemirror_mode": {
    "name": "ipython",
    "version": 3
   },
   "file_extension": ".py",
   "mimetype": "text/x-python",
   "name": "python",
   "nbconvert_exporter": "python",
   "pygments_lexer": "ipython3",
   "version": "3.12.6"
  }
 },
 "nbformat": 4,
 "nbformat_minor": 4
}
